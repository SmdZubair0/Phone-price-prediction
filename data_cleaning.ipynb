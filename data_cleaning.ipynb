{
 "cells": [
  {
   "cell_type": "code",
   "execution_count": 418,
   "metadata": {},
   "outputs": [],
   "source": [
    "import pandas as pd\n",
    "import numpy as np\n",
    "import matplotlib.pyplot as plt\n",
    "import seaborn as sns\n",
    "import re"
   ]
  },
  {
   "cell_type": "markdown",
   "metadata": {},
   "source": [
    "##### Data"
   ]
  },
  {
   "cell_type": "code",
   "execution_count": 419,
   "metadata": {},
   "outputs": [],
   "source": [
    "df = pd.read_csv('files/mobiles.csv')"
   ]
  },
  {
   "cell_type": "code",
   "execution_count": 420,
   "metadata": {},
   "outputs": [
    {
     "data": {
      "text/html": [
       "<div>\n",
       "<style scoped>\n",
       "    .dataframe tbody tr th:only-of-type {\n",
       "        vertical-align: middle;\n",
       "    }\n",
       "\n",
       "    .dataframe tbody tr th {\n",
       "        vertical-align: top;\n",
       "    }\n",
       "\n",
       "    .dataframe thead th {\n",
       "        text-align: right;\n",
       "    }\n",
       "</style>\n",
       "<table border=\"1\" class=\"dataframe\">\n",
       "  <thead>\n",
       "    <tr style=\"text-align: right;\">\n",
       "      <th></th>\n",
       "      <th>title</th>\n",
       "      <th>rating</th>\n",
       "      <th>image</th>\n",
       "      <th>price</th>\n",
       "      <th>In The Box</th>\n",
       "      <th>Model Name</th>\n",
       "      <th>Color</th>\n",
       "      <th>SIM Type</th>\n",
       "      <th>Touchscreen</th>\n",
       "      <th>Quick Charging</th>\n",
       "      <th>...</th>\n",
       "      <th>Expandable Storage</th>\n",
       "      <th>Primary Camera</th>\n",
       "      <th>Secondary Camera</th>\n",
       "      <th>HD Recording</th>\n",
       "      <th>Video Recording Resolution</th>\n",
       "      <th>Network Type</th>\n",
       "      <th>Battery Capacity</th>\n",
       "      <th>Battery Type</th>\n",
       "      <th>Warranty Summary</th>\n",
       "      <th>JAVA Support</th>\n",
       "    </tr>\n",
       "  </thead>\n",
       "  <tbody>\n",
       "    <tr>\n",
       "      <th>0</th>\n",
       "      <td>POCO M6 5G (Galactic Black, 128 GB)  (4 GB RAM)</td>\n",
       "      <td>4.2</td>\n",
       "      <td>https://rukminim2.flixcart.com/image/416/416/x...</td>\n",
       "      <td>₹12,999</td>\n",
       "      <td>Handset, 10W Charger, USB Type-C Cable, Sim Ej...</td>\n",
       "      <td>M6 5G</td>\n",
       "      <td>Galactic Black</td>\n",
       "      <td>Dual Sim</td>\n",
       "      <td>Yes</td>\n",
       "      <td>Yes</td>\n",
       "      <td>...</td>\n",
       "      <td>1 TB</td>\n",
       "      <td>50MP Rear Camera</td>\n",
       "      <td>5MP Front Camera</td>\n",
       "      <td>Yes</td>\n",
       "      <td>Rear Camera: 1080p (at 30 fps), 720p (at 30 fp...</td>\n",
       "      <td>2G, 3G, 4G, 4G VOLTE, 5G</td>\n",
       "      <td>5000 mAh</td>\n",
       "      <td>Lithium Polymer</td>\n",
       "      <td>1 Year Manufacturer Warranty for Phone and 6 M...</td>\n",
       "      <td>NaN</td>\n",
       "    </tr>\n",
       "    <tr>\n",
       "      <th>1</th>\n",
       "      <td>POCO M6 5G (Galactic Black, 128 GB)  (6 GB RAM)</td>\n",
       "      <td>4.3</td>\n",
       "      <td>https://rukminim2.flixcart.com/image/416/416/x...</td>\n",
       "      <td>₹13,999</td>\n",
       "      <td>Handset, 10W Charger, USB Type-C Cable, Sim Ej...</td>\n",
       "      <td>M6 5G</td>\n",
       "      <td>Galactic Black</td>\n",
       "      <td>Dual Sim</td>\n",
       "      <td>Yes</td>\n",
       "      <td>Yes</td>\n",
       "      <td>...</td>\n",
       "      <td>1 TB</td>\n",
       "      <td>50MP Rear Camera</td>\n",
       "      <td>5MP Front Camera</td>\n",
       "      <td>Yes</td>\n",
       "      <td>Rear Camera: 1080p (at 30 fps), 720p (at 30 fp...</td>\n",
       "      <td>2G, 3G, 4G, 4G VOLTE, 5G</td>\n",
       "      <td>5000 mAh</td>\n",
       "      <td>Lithium Polymer</td>\n",
       "      <td>1 Year Manufacturer Warranty for Phone and 6 M...</td>\n",
       "      <td>NaN</td>\n",
       "    </tr>\n",
       "  </tbody>\n",
       "</table>\n",
       "<p>2 rows × 30 columns</p>\n",
       "</div>"
      ],
      "text/plain": [
       "                                             title  rating  \\\n",
       "0  POCO M6 5G (Galactic Black, 128 GB)  (4 GB RAM)     4.2   \n",
       "1  POCO M6 5G (Galactic Black, 128 GB)  (6 GB RAM)     4.3   \n",
       "\n",
       "                                               image    price  \\\n",
       "0  https://rukminim2.flixcart.com/image/416/416/x...  ₹12,999   \n",
       "1  https://rukminim2.flixcart.com/image/416/416/x...  ₹13,999   \n",
       "\n",
       "                                          In The Box Model Name  \\\n",
       "0  Handset, 10W Charger, USB Type-C Cable, Sim Ej...      M6 5G   \n",
       "1  Handset, 10W Charger, USB Type-C Cable, Sim Ej...      M6 5G   \n",
       "\n",
       "            Color  SIM Type Touchscreen Quick Charging  ...  \\\n",
       "0  Galactic Black  Dual Sim         Yes            Yes  ...   \n",
       "1  Galactic Black  Dual Sim         Yes            Yes  ...   \n",
       "\n",
       "  Expandable Storage    Primary Camera  Secondary Camera HD Recording  \\\n",
       "0               1 TB  50MP Rear Camera  5MP Front Camera          Yes   \n",
       "1               1 TB  50MP Rear Camera  5MP Front Camera          Yes   \n",
       "\n",
       "                          Video Recording Resolution  \\\n",
       "0  Rear Camera: 1080p (at 30 fps), 720p (at 30 fp...   \n",
       "1  Rear Camera: 1080p (at 30 fps), 720p (at 30 fp...   \n",
       "\n",
       "               Network Type Battery Capacity     Battery Type  \\\n",
       "0  2G, 3G, 4G, 4G VOLTE, 5G         5000 mAh  Lithium Polymer   \n",
       "1  2G, 3G, 4G, 4G VOLTE, 5G         5000 mAh  Lithium Polymer   \n",
       "\n",
       "                                    Warranty Summary JAVA Support  \n",
       "0  1 Year Manufacturer Warranty for Phone and 6 M...          NaN  \n",
       "1  1 Year Manufacturer Warranty for Phone and 6 M...          NaN  \n",
       "\n",
       "[2 rows x 30 columns]"
      ]
     },
     "execution_count": 420,
     "metadata": {},
     "output_type": "execute_result"
    }
   ],
   "source": [
    "df.head(2)"
   ]
  },
  {
   "cell_type": "code",
   "execution_count": 421,
   "metadata": {},
   "outputs": [
    {
     "name": "stdout",
     "output_type": "stream",
     "text": [
      "<class 'pandas.core.frame.DataFrame'>\n",
      "RangeIndex: 550 entries, 0 to 549\n",
      "Data columns (total 30 columns):\n",
      " #   Column                      Non-Null Count  Dtype  \n",
      "---  ------                      --------------  -----  \n",
      " 0   title                       550 non-null    object \n",
      " 1   rating                      550 non-null    float64\n",
      " 2   image                       550 non-null    object \n",
      " 3   price                       550 non-null    object \n",
      " 4   In The Box                  548 non-null    object \n",
      " 5   Model Name                  550 non-null    object \n",
      " 6   Color                       550 non-null    object \n",
      " 7   SIM Type                    550 non-null    object \n",
      " 8   Touchscreen                 548 non-null    object \n",
      " 9   Quick Charging              329 non-null    object \n",
      " 10  Display Size                550 non-null    object \n",
      " 11  Resolution                  549 non-null    object \n",
      " 12  GPU                         248 non-null    object \n",
      " 13  Operating System            426 non-null    object \n",
      " 14  Processor Brand             426 non-null    object \n",
      " 15  Processor Type              347 non-null    object \n",
      " 16  Processor Core              396 non-null    object \n",
      " 17  Primary Clock Speed         477 non-null    object \n",
      " 18  Internal Storage            547 non-null    object \n",
      " 19  RAM                         524 non-null    object \n",
      " 20  Expandable Storage          276 non-null    object \n",
      " 21  Primary Camera              512 non-null    object \n",
      " 22  Secondary Camera            357 non-null    object \n",
      " 23  HD Recording                313 non-null    object \n",
      " 24  Video Recording Resolution  262 non-null    object \n",
      " 25  Network Type                544 non-null    object \n",
      " 26  Battery Capacity            540 non-null    object \n",
      " 27  Battery Type                316 non-null    object \n",
      " 28  Warranty Summary            550 non-null    object \n",
      " 29  JAVA Support                72 non-null     object \n",
      "dtypes: float64(1), object(29)\n",
      "memory usage: 129.0+ KB\n"
     ]
    }
   ],
   "source": [
    "df.info()"
   ]
  },
  {
   "cell_type": "code",
   "execution_count": 422,
   "metadata": {},
   "outputs": [
    {
     "data": {
      "text/plain": [
       "0"
      ]
     },
     "execution_count": 422,
     "metadata": {},
     "output_type": "execute_result"
    }
   ],
   "source": [
    "df.duplicated().sum()"
   ]
  },
  {
   "cell_type": "code",
   "execution_count": 423,
   "metadata": {},
   "outputs": [
    {
     "data": {
      "text/plain": [
       "title                           0\n",
       "rating                          0\n",
       "image                           0\n",
       "price                           0\n",
       "In The Box                      2\n",
       "Model Name                      0\n",
       "Color                           0\n",
       "SIM Type                        0\n",
       "Touchscreen                     2\n",
       "Quick Charging                221\n",
       "Display Size                    0\n",
       "Resolution                      1\n",
       "GPU                           302\n",
       "Operating System              124\n",
       "Processor Brand               124\n",
       "Processor Type                203\n",
       "Processor Core                154\n",
       "Primary Clock Speed            73\n",
       "Internal Storage                3\n",
       "RAM                            26\n",
       "Expandable Storage            274\n",
       "Primary Camera                 38\n",
       "Secondary Camera              193\n",
       "HD Recording                  237\n",
       "Video Recording Resolution    288\n",
       "Network Type                    6\n",
       "Battery Capacity               10\n",
       "Battery Type                  234\n",
       "Warranty Summary                0\n",
       "JAVA Support                  478\n",
       "dtype: int64"
      ]
     },
     "execution_count": 423,
     "metadata": {},
     "output_type": "execute_result"
    }
   ],
   "source": [
    "df.isnull().sum()"
   ]
  },
  {
   "cell_type": "code",
   "execution_count": 424,
   "metadata": {},
   "outputs": [
    {
     "data": {
      "text/plain": [
       "(550, 30)"
      ]
     },
     "execution_count": 424,
     "metadata": {},
     "output_type": "execute_result"
    }
   ],
   "source": [
    "df.shape"
   ]
  },
  {
   "cell_type": "markdown",
   "metadata": {},
   "source": [
    "##### Title"
   ]
  },
  {
   "cell_type": "code",
   "execution_count": 425,
   "metadata": {},
   "outputs": [
    {
     "data": {
      "text/plain": [
       "0        POCO M6 5G (Galactic Black, 128 GB)  (4 GB RAM)\n",
       "1        POCO M6 5G (Galactic Black, 128 GB)  (6 GB RAM)\n",
       "2      Motorola G34 5G (Ocean Green, 128 GB)  (8 GB RAM)\n",
       "3       POCO M6 Pro 5G (Power Black, 128 GB)  (6 GB RAM)\n",
       "4      Motorola G34 5G (Charcoal Black, 128 GB)  (8 G...\n",
       "                             ...                        \n",
       "545    SAREGAMA Carvaan Mobile Hindi Don Lite M13 wit...\n",
       "546    Motorola Edge 50 Fusion (Forest Blue, 128 GB) ...\n",
       "547    IQOO Neo9 Pro (Conqueror Black, 256 GB)  (8 GB...\n",
       "548                                Kechaoda A8  (Golden)\n",
       "549         IQOO Z9X (Tornado Green, 128 GB)  (8 GB RAM)\n",
       "Name: title, Length: 550, dtype: object"
      ]
     },
     "execution_count": 425,
     "metadata": {},
     "output_type": "execute_result"
    }
   ],
   "source": [
    "df.title"
   ]
  },
  {
   "cell_type": "code",
   "execution_count": 426,
   "metadata": {},
   "outputs": [
    {
     "data": {
      "text/plain": [
       "540"
      ]
     },
     "execution_count": 426,
     "metadata": {},
     "output_type": "execute_result"
    }
   ],
   "source": [
    "df.title.nunique()"
   ]
  },
  {
   "cell_type": "code",
   "execution_count": 427,
   "metadata": {},
   "outputs": [
    {
     "data": {
      "text/plain": [
       "42"
      ]
     },
     "execution_count": 427,
     "metadata": {},
     "output_type": "execute_result"
    }
   ],
   "source": [
    "df.title.apply(lambda x : x.split()[0]).nunique()"
   ]
  },
  {
   "cell_type": "code",
   "execution_count": 428,
   "metadata": {},
   "outputs": [],
   "source": [
    "df['brand'] = df.title.apply(lambda x : x.split()[0])"
   ]
  },
  {
   "cell_type": "code",
   "execution_count": 429,
   "metadata": {},
   "outputs": [
    {
     "data": {
      "text/plain": [
       "0          POCO\n",
       "1          POCO\n",
       "2      Motorola\n",
       "3          POCO\n",
       "4      Motorola\n",
       "         ...   \n",
       "545    SAREGAMA\n",
       "546    Motorola\n",
       "547        IQOO\n",
       "548    Kechaoda\n",
       "549        IQOO\n",
       "Name: brand, Length: 550, dtype: object"
      ]
     },
     "execution_count": 429,
     "metadata": {},
     "output_type": "execute_result"
    }
   ],
   "source": [
    "df.brand"
   ]
  },
  {
   "cell_type": "markdown",
   "metadata": {},
   "source": [
    "##### Rating"
   ]
  },
  {
   "cell_type": "code",
   "execution_count": 430,
   "metadata": {},
   "outputs": [],
   "source": [
    "df.rating = df.rating.astype(np.float32)"
   ]
  },
  {
   "cell_type": "code",
   "execution_count": 431,
   "metadata": {},
   "outputs": [
    {
     "data": {
      "text/plain": [
       "0      4.2\n",
       "1      4.3\n",
       "2      4.2\n",
       "3      4.3\n",
       "4      4.2\n",
       "      ... \n",
       "545    3.4\n",
       "546    4.5\n",
       "547    4.5\n",
       "548    3.8\n",
       "549    4.3\n",
       "Name: rating, Length: 550, dtype: float32"
      ]
     },
     "execution_count": 431,
     "metadata": {},
     "output_type": "execute_result"
    }
   ],
   "source": [
    "df.rating"
   ]
  },
  {
   "cell_type": "markdown",
   "metadata": {},
   "source": [
    "##### Image"
   ]
  },
  {
   "cell_type": "code",
   "execution_count": 432,
   "metadata": {},
   "outputs": [
    {
     "data": {
      "text/plain": [
       "'https://rukminim2.flixcart.com/image/416/416/xif0q/mobile/h/b/r/-original-imagytcpcnjbduwh.jpeg?q=70&crop=false'"
      ]
     },
     "execution_count": 432,
     "metadata": {},
     "output_type": "execute_result"
    }
   ],
   "source": [
    "df.image[0]"
   ]
  },
  {
   "cell_type": "markdown",
   "metadata": {},
   "source": [
    "##### Price"
   ]
  },
  {
   "cell_type": "code",
   "execution_count": 433,
   "metadata": {},
   "outputs": [
    {
     "data": {
      "text/plain": [
       "0      ₹12,999\n",
       "1      ₹13,999\n",
       "2      ₹14,999\n",
       "3      ₹16,999\n",
       "4      ₹14,999\n",
       "        ...   \n",
       "545     ₹1,499\n",
       "546    ₹25,999\n",
       "547    ₹41,999\n",
       "548     ₹1,999\n",
       "549    ₹19,999\n",
       "Name: price, Length: 550, dtype: object"
      ]
     },
     "execution_count": 433,
     "metadata": {},
     "output_type": "execute_result"
    }
   ],
   "source": [
    "df.price"
   ]
  },
  {
   "cell_type": "code",
   "execution_count": 434,
   "metadata": {},
   "outputs": [],
   "source": [
    "df.price = df.price.apply(lambda x : int(x[1:].replace(',',\"\")))"
   ]
  },
  {
   "cell_type": "code",
   "execution_count": 435,
   "metadata": {},
   "outputs": [
    {
     "data": {
      "text/plain": [
       "0      12999\n",
       "1      13999\n",
       "2      14999\n",
       "3      16999\n",
       "4      14999\n",
       "       ...  \n",
       "545     1499\n",
       "546    25999\n",
       "547    41999\n",
       "548     1999\n",
       "549    19999\n",
       "Name: price, Length: 550, dtype: int64"
      ]
     },
     "execution_count": 435,
     "metadata": {},
     "output_type": "execute_result"
    }
   ],
   "source": [
    "df.price"
   ]
  },
  {
   "cell_type": "markdown",
   "metadata": {},
   "source": [
    "##### Extra"
   ]
  },
  {
   "cell_type": "code",
   "execution_count": 436,
   "metadata": {},
   "outputs": [],
   "source": [
    "df.rename(columns={\"In The Box\" : 'extra'},inplace=True)"
   ]
  },
  {
   "cell_type": "code",
   "execution_count": 437,
   "metadata": {},
   "outputs": [
    {
     "data": {
      "text/plain": [
       "'Handset, 10W Charger, USB Type-C Cable, Sim Eject Tool, Quick Start Guide, Warranty Card'"
      ]
     },
     "execution_count": 437,
     "metadata": {},
     "output_type": "execute_result"
    }
   ],
   "source": [
    "df.extra[0]"
   ]
  },
  {
   "cell_type": "code",
   "execution_count": 438,
   "metadata": {},
   "outputs": [],
   "source": [
    "def check_extra(x):\n",
    "    h = c = w = tc = False\n",
    "    try:\n",
    "        x = x.lower()\n",
    "        if \"handset\" in x:\n",
    "            h = True\n",
    "        if \"charger\" in x:\n",
    "            c = True\n",
    "        if \"warranty\" in x:\n",
    "            w = True\n",
    "        if \"type-c\" in x:\n",
    "            tc = True\n",
    "        return h,c,w,tc\n",
    "    except:\n",
    "        return h,c,w,tc"
   ]
  },
  {
   "cell_type": "code",
   "execution_count": 439,
   "metadata": {},
   "outputs": [],
   "source": [
    "h = []\n",
    "c = []\n",
    "w = []\n",
    "tc = []\n",
    "\n",
    "for i in df.extra:\n",
    "    t = check_extra(i)\n",
    "    h.append(t[0])\n",
    "    c.append(t[1])\n",
    "    w.append(t[2])\n",
    "    tc.append(t[3])\n",
    "\n",
    "df['headset'] = h\n",
    "df['charger'] = c\n",
    "df['warranty'] = w\n",
    "df['cable'] = tc"
   ]
  },
  {
   "cell_type": "code",
   "execution_count": 440,
   "metadata": {},
   "outputs": [
    {
     "data": {
      "text/plain": [
       "headset\n",
       "True     467\n",
       "False     83\n",
       "Name: count, dtype: int64"
      ]
     },
     "execution_count": 440,
     "metadata": {},
     "output_type": "execute_result"
    }
   ],
   "source": [
    "df.headset.value_counts()"
   ]
  },
  {
   "cell_type": "code",
   "execution_count": 441,
   "metadata": {},
   "outputs": [
    {
     "data": {
      "text/plain": [
       "charger\n",
       "True     334\n",
       "False    216\n",
       "Name: count, dtype: int64"
      ]
     },
     "execution_count": 441,
     "metadata": {},
     "output_type": "execute_result"
    }
   ],
   "source": [
    "df.charger.value_counts()"
   ]
  },
  {
   "cell_type": "code",
   "execution_count": 442,
   "metadata": {},
   "outputs": [
    {
     "data": {
      "text/plain": [
       "cable\n",
       "False    398\n",
       "True     152\n",
       "Name: count, dtype: int64"
      ]
     },
     "execution_count": 442,
     "metadata": {},
     "output_type": "execute_result"
    }
   ],
   "source": [
    "df.cable.value_counts()"
   ]
  },
  {
   "cell_type": "code",
   "execution_count": 443,
   "metadata": {},
   "outputs": [
    {
     "data": {
      "text/plain": [
       "warranty\n",
       "False    322\n",
       "True     228\n",
       "Name: count, dtype: int64"
      ]
     },
     "execution_count": 443,
     "metadata": {},
     "output_type": "execute_result"
    }
   ],
   "source": [
    "df.warranty.value_counts()"
   ]
  },
  {
   "cell_type": "markdown",
   "metadata": {},
   "source": [
    "##### Model name"
   ]
  },
  {
   "cell_type": "code",
   "execution_count": 444,
   "metadata": {},
   "outputs": [
    {
     "data": {
      "text/plain": [
       "0                                                  M6 5G\n",
       "1                                                  M6 5G\n",
       "2                                                 G34 5G\n",
       "3                                              M6 Pro 5G\n",
       "4                                                 G34 5G\n",
       "                             ...                        \n",
       "545    Carvaan Mobile Hindi Don Lite M13 with 351 pre...\n",
       "546                                       Edge 50 Fusion\n",
       "547                                             Neo9 Pro\n",
       "548                                                   A8\n",
       "549                                                  Z9X\n",
       "Name: Model Name, Length: 550, dtype: object"
      ]
     },
     "execution_count": 444,
     "metadata": {},
     "output_type": "execute_result"
    }
   ],
   "source": [
    "df['Model Name']"
   ]
  },
  {
   "cell_type": "code",
   "execution_count": 445,
   "metadata": {},
   "outputs": [],
   "source": [
    "df['pro'] = df['Model Name'].apply(lambda x : True if \"pro\" in x.lower() else False)"
   ]
  },
  {
   "cell_type": "code",
   "execution_count": 446,
   "metadata": {},
   "outputs": [],
   "source": [
    "df['model'] = df['Model Name'].apply(lambda x: x.split()[0])"
   ]
  },
  {
   "cell_type": "code",
   "execution_count": 447,
   "metadata": {},
   "outputs": [
    {
     "data": {
      "text/html": [
       "<div>\n",
       "<style scoped>\n",
       "    .dataframe tbody tr th:only-of-type {\n",
       "        vertical-align: middle;\n",
       "    }\n",
       "\n",
       "    .dataframe tbody tr th {\n",
       "        vertical-align: top;\n",
       "    }\n",
       "\n",
       "    .dataframe thead th {\n",
       "        text-align: right;\n",
       "    }\n",
       "</style>\n",
       "<table border=\"1\" class=\"dataframe\">\n",
       "  <thead>\n",
       "    <tr style=\"text-align: right;\">\n",
       "      <th></th>\n",
       "      <th>pro</th>\n",
       "      <th>model</th>\n",
       "    </tr>\n",
       "  </thead>\n",
       "  <tbody>\n",
       "    <tr>\n",
       "      <th>0</th>\n",
       "      <td>False</td>\n",
       "      <td>M6</td>\n",
       "    </tr>\n",
       "    <tr>\n",
       "      <th>1</th>\n",
       "      <td>False</td>\n",
       "      <td>M6</td>\n",
       "    </tr>\n",
       "    <tr>\n",
       "      <th>2</th>\n",
       "      <td>False</td>\n",
       "      <td>G34</td>\n",
       "    </tr>\n",
       "    <tr>\n",
       "      <th>3</th>\n",
       "      <td>True</td>\n",
       "      <td>M6</td>\n",
       "    </tr>\n",
       "    <tr>\n",
       "      <th>4</th>\n",
       "      <td>False</td>\n",
       "      <td>G34</td>\n",
       "    </tr>\n",
       "    <tr>\n",
       "      <th>...</th>\n",
       "      <td>...</td>\n",
       "      <td>...</td>\n",
       "    </tr>\n",
       "    <tr>\n",
       "      <th>545</th>\n",
       "      <td>False</td>\n",
       "      <td>Carvaan</td>\n",
       "    </tr>\n",
       "    <tr>\n",
       "      <th>546</th>\n",
       "      <td>False</td>\n",
       "      <td>Edge</td>\n",
       "    </tr>\n",
       "    <tr>\n",
       "      <th>547</th>\n",
       "      <td>True</td>\n",
       "      <td>Neo9</td>\n",
       "    </tr>\n",
       "    <tr>\n",
       "      <th>548</th>\n",
       "      <td>False</td>\n",
       "      <td>A8</td>\n",
       "    </tr>\n",
       "    <tr>\n",
       "      <th>549</th>\n",
       "      <td>False</td>\n",
       "      <td>Z9X</td>\n",
       "    </tr>\n",
       "  </tbody>\n",
       "</table>\n",
       "<p>550 rows × 2 columns</p>\n",
       "</div>"
      ],
      "text/plain": [
       "       pro    model\n",
       "0    False       M6\n",
       "1    False       M6\n",
       "2    False      G34\n",
       "3     True       M6\n",
       "4    False      G34\n",
       "..     ...      ...\n",
       "545  False  Carvaan\n",
       "546  False     Edge\n",
       "547   True     Neo9\n",
       "548  False       A8\n",
       "549  False      Z9X\n",
       "\n",
       "[550 rows x 2 columns]"
      ]
     },
     "execution_count": 447,
     "metadata": {},
     "output_type": "execute_result"
    }
   ],
   "source": [
    "df[['pro','model']]"
   ]
  },
  {
   "cell_type": "markdown",
   "metadata": {},
   "source": [
    "##### Color"
   ]
  },
  {
   "cell_type": "code",
   "execution_count": 448,
   "metadata": {},
   "outputs": [],
   "source": [
    "df[['color1','color2']] = df.Color.apply(lambda x: pd.Series(x.split()[0:2]))"
   ]
  },
  {
   "cell_type": "code",
   "execution_count": 449,
   "metadata": {},
   "outputs": [
    {
     "data": {
      "text/plain": [
       "0       Galactic\n",
       "1       Galactic\n",
       "2          Ocean\n",
       "3          Power\n",
       "4       Charcoal\n",
       "         ...    \n",
       "545         Iris\n",
       "546       Forest\n",
       "547    Conqueror\n",
       "548       Golden\n",
       "549      Tornado\n",
       "Name: color1, Length: 550, dtype: object"
      ]
     },
     "execution_count": 449,
     "metadata": {},
     "output_type": "execute_result"
    }
   ],
   "source": [
    "df.color1"
   ]
  },
  {
   "cell_type": "code",
   "execution_count": 450,
   "metadata": {},
   "outputs": [
    {
     "data": {
      "text/plain": [
       "0       Black\n",
       "1       Black\n",
       "2       Green\n",
       "3       Black\n",
       "4       Black\n",
       "        ...  \n",
       "545    Orange\n",
       "546      Blue\n",
       "547     Black\n",
       "548       NaN\n",
       "549     Green\n",
       "Name: color2, Length: 550, dtype: object"
      ]
     },
     "execution_count": 450,
     "metadata": {},
     "output_type": "execute_result"
    }
   ],
   "source": [
    "df.color2"
   ]
  },
  {
   "cell_type": "markdown",
   "metadata": {},
   "source": [
    "##### Sim type"
   ]
  },
  {
   "cell_type": "code",
   "execution_count": 451,
   "metadata": {},
   "outputs": [
    {
     "data": {
      "text/plain": [
       "SIM Type\n",
       "Dual Sim                 518\n",
       "Dual Sim(Nano + eSIM)     17\n",
       "Single Sim                10\n",
       "Triple Sim                 4\n",
       "Four Sim                   1\n",
       "Name: count, dtype: int64"
      ]
     },
     "execution_count": 451,
     "metadata": {},
     "output_type": "execute_result"
    }
   ],
   "source": [
    "df['SIM Type'].value_counts()"
   ]
  },
  {
   "cell_type": "code",
   "execution_count": 452,
   "metadata": {},
   "outputs": [],
   "source": [
    "df['sim'] = df['SIM Type'].apply(lambda x : x.split()[0])"
   ]
  },
  {
   "cell_type": "markdown",
   "metadata": {},
   "source": [
    "##### Touchscreen"
   ]
  },
  {
   "cell_type": "code",
   "execution_count": 453,
   "metadata": {},
   "outputs": [
    {
     "data": {
      "text/plain": [
       "Touchscreen\n",
       "Yes    384\n",
       "No     164\n",
       "Name: count, dtype: int64"
      ]
     },
     "execution_count": 453,
     "metadata": {},
     "output_type": "execute_result"
    }
   ],
   "source": [
    "df['Touchscreen'].value_counts()"
   ]
  },
  {
   "cell_type": "markdown",
   "metadata": {},
   "source": [
    "##### Quick charging"
   ]
  },
  {
   "cell_type": "code",
   "execution_count": 454,
   "metadata": {},
   "outputs": [],
   "source": [
    "df.rename(columns={\"Quick Charging\" : 'quick_charge'},inplace=True)"
   ]
  },
  {
   "cell_type": "code",
   "execution_count": 455,
   "metadata": {},
   "outputs": [
    {
     "data": {
      "text/plain": [
       "0      Yes\n",
       "1      Yes\n",
       "2      Yes\n",
       "3      Yes\n",
       "4      Yes\n",
       "      ... \n",
       "545    NaN\n",
       "546    Yes\n",
       "547    NaN\n",
       "548    NaN\n",
       "549    NaN\n",
       "Name: quick_charge, Length: 550, dtype: object"
      ]
     },
     "execution_count": 455,
     "metadata": {},
     "output_type": "execute_result"
    }
   ],
   "source": [
    "df['quick_charge']"
   ]
  },
  {
   "cell_type": "code",
   "execution_count": 456,
   "metadata": {},
   "outputs": [
    {
     "name": "stdout",
     "output_type": "stream",
     "text": [
      "Apple iPhone 14 Plus (Starlight, 128 GB)\n",
      "Apple iPhone 14 Plus (Midnight, 128 GB)\n",
      "OnePlus Nord CE 3 Lite 5G (Chromatic Gray, 128 GB)  (8 GB RAM)\n",
      "OnePlus Nord CE 3 Lite 5G (Pastel Lime, 128 GB)  (8 GB RAM)\n",
      "Motorola g04s (Satin Blue, 64 GB)  (4 GB RAM)\n",
      "vivo T3x 5G (Celestial Green, 128 GB)  (6 GB RAM)\n",
      "vivo T3x 5G (Celestial Green, 128 GB)  (4 GB RAM)\n",
      "Motorola g04s (Concord Black, 64 GB)  (4 GB RAM)\n",
      "vivo T2 Pro 5G (Dune Gold, 256 GB)  (8 GB RAM)\n",
      "vivo T2 Pro 5G (New Moon Black, 128 GB)  (8 GB RAM)\n",
      "vivo T3x 5G (Crimson Bliss, 128 GB)  (4 GB RAM)\n",
      "Apple iPhone 14 Plus (Blue, 128 GB)\n",
      "vivo T2 Pro 5G (New Moon Black, 256 GB)  (8 GB RAM)\n",
      "Nokia 150 Dual Sim Keypad Mobile, Wireless FM radio, Bluetooth, MP3 player  (Cyan)\n",
      "Micromax J3  (Dark Grey)\n",
      "Infinix HOT 40i (Starfall Green, 256 GB)  (8 GB RAM)\n",
      "Infinix HOT 40i (Horizon Gold, 256 GB)  (8 GB RAM)\n",
      "Infinix SMART 8 HD (Galaxy White, 64 GB)  (3 GB RAM)\n",
      "Infinix SMART 8 HD (Timber Black, 64 GB)  (3 GB RAM)\n",
      "Infinix SMART 8 HD (Shiny Gold, 64 GB)  (3 GB RAM)\n",
      "Infinix SMART 8 HD (Crystal Green, 64 GB)  (3 GB RAM)\n",
      "Infinix HOT 40i (Palm Blue, 256 GB)  (8 GB RAM)\n",
      "Infinix SMART 8 HD (Shiny Gold, 64 GB)  (4 GB RAM)\n",
      "Infinix SMART 8 HD (Crystal Green, 64 GB)  (4 GB RAM)\n",
      "Nokia 150 Dual Sim Keypad Mobile,Wireless FM radio, Bluetooth, MP3 player  (Black)\n",
      "Infinix SMART 8 HD (Timber Black, 64 GB)  (4 GB RAM)\n",
      "Infinix SMART 8 (Shiny Gold, 128 GB)  (8 GB RAM)\n",
      "Infinix SMART 8 (Rainbow Blue, 64 GB)  (4 GB RAM)\n",
      "Infinix SMART 8 (Timber Black, 128 GB)  (8 GB RAM)\n",
      "Infinix SMART 8 (Shiny Gold, 64 GB)  (4 GB RAM)\n",
      "Infinix SMART 8 (Galaxy White, 128 GB)  (8 GB RAM)\n",
      "Nokia 105 DS 2020  (Black)\n",
      "OnePlus 11R 5G (Galactic Silver, 256 GB)  (16 GB RAM)\n",
      "Apple iPhone 15 (Blue, 128 GB)\n",
      "OnePlus Nord CE 2 Lite 5G (Blue Tide, 128 GB)  (6 GB RAM)\n",
      "Apple iPhone 14 Plus (Purple, 128 GB)\n",
      "itel A70 | 5000 mAh Battery |13MP Dual Rear Camera | Type C Charging (Brilliant Gold, 64 GB)  (4 GB RAM)\n",
      "REDMI Note 13 5G (Arctic White, 128 GB)  (6 GB RAM)\n",
      "Apple iPhone 15 (Black, 128 GB)\n",
      "Apple iPhone 14 Plus ((PRODUCT)RED, 128 GB)\n",
      "REDMI Note 13 5G (Stealth Black, 256 GB)  (8 GB RAM)\n",
      "SAMSUNG Galaxy F14 5G (B.A.E. Purple, 128 GB)  (6 GB RAM)\n",
      "SAMSUNG Galaxy F14 5G (GOAT Green, 128 GB)  (6 GB RAM)\n",
      "REDMI Note 13 5G (Stealth Black, 256 GB)  (12 GB RAM)\n",
      "SAMSUNG GT 1200 R/I/M  (Black)\n",
      "Tecno Spark 20 (Cyber White, 256 GB)  (8 GB RAM)\n",
      "OnePlus 11R 5G (Sonic Black, 128 GB)  (8 GB RAM)\n",
      "Nokia TA-1304/105 SS  (Black)\n",
      "Micromax S213  (Blue)\n",
      "TARA MOBILE T5  (32 MB RAM)\n",
      "TARA MOBILE T5  (32 MB RAM)\n",
      "Micromax S213  (Purple)\n",
      "Apple iPhone 14 Plus (Yellow, 128 GB)\n",
      "Micromax S213  (Black+Red)\n",
      "KARBONN K9 Yuva Keypad Mobile| 2500 mAh Battery|2MP Camera|Expandable Memory up to 32GB  (coffee champagne)\n",
      "SAMSUNG Galaxy M14 5G (Berry Blue, 128 GB)  (6 GB RAM)\n",
      "vivo Y27 (Garden Green, 128 GB)  (6 GB RAM)\n",
      "Apple iPhone 15 (Blue, 256 GB)\n",
      "REDMI 13c 5G (Startrail Silver, 256 GB)  (8 GB RAM)\n",
      "SAMSUNG Galaxy M14 5G (Smoky Teal, 128 GB)  (4 GB RAM)\n",
      "vivo Y27 (Burgundy Black, 128 GB)  (6 GB RAM)\n",
      "Infinix GT 20 Pro (Mecha Blue, 256 GB)  (12 GB RAM)\n",
      "REDMI 13c 5G (Starlight Black, 256 GB)  (8 GB RAM)\n",
      "Kechaoda K112  (Orange)\n",
      "REDMI Note 13 5G (Prism Gold, 256 GB)  (12 GB RAM)\n",
      "OnePlus N20 SE (CELESTIAL BLACK, 128 GB)  (4 GB RAM)\n",
      "LAVA YUVA 2 PRO (GLASS LAVENDER, 64 GB)  (4 GB RAM)\n",
      "Infinix GT 20 Pro (Mecha Orange, 256 GB)  (8 GB RAM)\n",
      "Infinix GT 20 Pro (Mecha Orange, 256 GB)  (12 GB RAM)\n",
      "Kechaoda K115  (Rose Gold)\n",
      "SAMSUNG GT-1200  (Black)\n",
      "REDMI 13c 5G (Startrail Silver, 128 GB)  (4 GB RAM)\n",
      "REDMI 13c 5G (Startrail Green, 128 GB)  (6 GB RAM)\n",
      "Micromax X416  (Black+Blue)\n",
      "Infinix GT 20 Pro (Mecha Blue, 256 GB)  (8 GB RAM)\n",
      "SAMSUNG Metro 313  (Black)\n",
      "Motorola g04s (Sea Green, 64 GB)  (4 GB RAM)\n",
      "OnePlus 12R (Iron Gray, 128 GB)  (8 GB RAM)\n",
      "OnePlus 12 (Silky Black, 512 GB)  (16 GB RAM)\n",
      "SAMSUNG Galaxy F14 5G (GOAT Green, 128 GB)  (4 GB RAM)\n",
      "itel Circle 1  (Black)\n",
      "IQOO Z7 Pro 5G (Blue Lagoon, 256 GB)  (8 GB RAM)\n",
      "itel A05s | Typse C Charging | 4000 mAh Battery | Side FingerPrint (Crystal Blue, 64 GB)  (4 GB RAM)\n",
      "itel A70 | 5000 mAh Battery |13MP Dual Rear Camera | Type C Charging (Starlish Black, 64 GB)  (4 GB RAM)\n",
      "SAMSUNG Galaxy F14 5G (OMG Black, 128 GB)  (4 GB RAM)\n",
      "IQOO Z7 Pro 5G (Graphite Matte, 256 GB)  (8 GB RAM)\n",
      "realme Narzo N55 (Prime Blue, 128 GB)  (6 GB RAM)\n",
      "SAMSUNG Metro 313  (White)\n",
      "Micromax S116  (Blue)\n",
      "OnePlus Nord CE 2 Lite 5G (Black Dusk, 128 GB)  (6 GB RAM)\n",
      "realme NARZO 70 5G (ICE BLUE, 128 GB)  (8 GB RAM)\n",
      "SAMSUNG Metro 313  (White)\n",
      "SAMSUNG Galaxy Z Flip3 5G (Cream, 128 GB)  (8 GB RAM)\n",
      "realme NARZO 70X 5G (FOREST GREEN, 128 GB)  (4 GB RAM)\n",
      "SAMSUNG Galaxy M14 4G (Sapphire Blue, 64 GB)  (4 GB RAM)\n",
      "KARBONN K9 Yuva Keypad Mobile| 2500 mAh Battery|2MP Camera|Expandable Memory up to 32GB  (White Champagne)\n",
      "OnePlus 12 (Flowy Emerald, 256 GB)  (12 GB RAM)\n",
      "LAVA A7 Torch Dual Sim Keypad Phone|2574 mAh Battery|Expandable Upto 32 GB  (Black)\n",
      "REDMI 13c 5G (Starlight Black, 128 GB)  (4 GB RAM)\n",
      "itel S23 with Dual Sim| 50MP Rear Camera| 5000mAh Battery|Expandable Upto 1 TB (Starry Black, 128 GB)  (4 GB RAM)\n",
      "realme NARZO 70X 5G (ICE BLUE, 128 GB)  (4 GB RAM)\n",
      "SAMSUNG Galaxy M14 4G (Arctic Blue, 64 GB)  (4 GB RAM)\n",
      "Motorola A50G  (Gold)\n",
      "OnePlus 12 (Silky Black, 256 GB)  (12 GB RAM)\n",
      "MTR M310  (Dark Blue)\n",
      "IQOO Z9 5G (Graphene Blue, 128 GB)  (8 GB RAM)\n",
      "SAMSUNG Galaxy F14 5G (B.A.E. Purple, 128 GB)  (4 GB RAM)\n",
      "SAMSUNG Galaxy M14 5G (ICY Silver, 128 GB)  (4 GB RAM)\n",
      "Snexian BOLD 888  (Black)\n",
      "REDMI 13c 5G (Startrail Green, 256 GB)  (8 GB RAM)\n",
      "MTR FERRARI  (Gold)\n",
      "MTR Ferrari  (Red)\n",
      "MTR Ferrari  (Blue)\n",
      "OnePlus Nord CE3 5G (Grey Shimmer, 128 GB)  (8 GB RAM)\n",
      "BlackZone ECO X  (Red)\n",
      "I Kall K100  (Blue)\n",
      "realme NARZO 70 5G (FOREST GREEN, 128 GB)  (8 GB RAM)\n",
      "itel MagicX 4G| 1200 mAh battery| Expanadable Storage upto 64GB  (White)\n",
      "vivo Y18 (Gem Green, 128 GB)  (4 GB RAM)\n",
      "KARBONN K531 Dual Sim Keypad Phone|1750 mAh Battery|0.3MP Camera|Expandable Upto 32 GB  (Olive Green)\n",
      "Kechaoda K9  (Iron Grey)\n",
      "itel it5026 Keypad Mobile|1200 mAh battery|Expandable Storage upto 32GB  (Blue)\n",
      "Nokia C22 (Charcoal, 64 GB)  (2 GB RAM)\n",
      "Infinix Note 40 Pro 5G (Vintage Green, 256 GB)  (8 GB RAM)\n",
      "itel Power 200|2500 mAh battery|Expandable Storage upto 32GB  (Black)\n",
      "SAMSUNG Metro B313E Dual Sim - White  (White)\n",
      "Redmi 7A (Matte Black, 32 GB)  (2 GB RAM)\n",
      "KARBONN KX 29  (Black + Grey)\n",
      "Kechaoda K9  (Black)\n",
      "Apple iPhone 15 (Green, 256 GB)\n",
      "OnePlus Nord CE3 5G (Aqua Surge, 256 GB)  (12 GB RAM)\n",
      "realme Narzo N53 (Feather Black, 128 GB)  (6 GB RAM)\n",
      "itel A05s (Nebula Black, 64 GB)  (4 GB RAM)\n",
      "Vox V16  (Green)\n",
      "Vox V16  (Black)\n",
      "KARBONN K9 Yodha�Dual Sim Keypad Mobile|1800 mAh Battery|Expandable Memory up to 32GB  (White Knight)\n",
      "itel A05s (Meadow Green, 64 GB)  (4 GB RAM)\n",
      "KARBONN K110i  (Red)\n",
      "Kechaoda K9  (Black)\n",
      "IAIR D7 MINI Dual Sim Keypad Phone With Jazz Wired Earphone| 1.8 Inch Big Display  (Dark Blue)\n",
      "Kechaoda K28  (Gold)\n",
      "I Kall K29-Pro 4g phone  (Black)\n",
      "HOTLINE H6700  (Red)\n",
      "KARBONN KX 29  (grey blue)\n",
      "SAMSUNG Galaxy M34 5G (Waterfall Blue, 128 GB)  (6 GB RAM)\n",
      "OnePlus Nord CE3 5G (Grey Shimmer, 256 GB)  (12 GB RAM)\n",
      "OPPO A18 (Glowing Blue, 128 GB)  (4 GB RAM)\n",
      "OPPO A79 5G (Mystery Black, 128 GB)  (8 GB RAM)\n",
      "Snexian ROCK 312  (Green)\n",
      "KARBONN K110i  (Black)\n",
      "SIAVANTAGE PRO 310  (Blue)\n",
      "SAMSUNG Galaxy M34 5G (Waterfall Blue, 128 GB)  (8 GB RAM)\n",
      "itel it5262  (Light Blue)\n",
      "itel it5262  (Black)\n",
      "itel it2163S  (Black)\n",
      "Apple iPhone 15 Plus (Green, 128 GB)\n",
      "vivo Y18 (Space Black, 128 GB)  (4 GB RAM)\n",
      "OPPO A17 (Lake Blue, 64 GB)  (4 GB RAM)\n",
      "realme C30s (Stripe Black, 64 GB)  (4 GB RAM)\n",
      "Nokia 6310 Dual SIM Feature Mobile, Wireless FM Radio and Rear Camera  (Yellow)\n",
      "itel it2163S  (Dark Green)\n",
      "Snexian GURU 315  (Gold)\n",
      "Apple iPhone 14 Plus ((PRODUCT)RED, 256 GB)\n",
      "SAMSUNG Galaxy M34 5G without charger (Midnight Blue, 128 GB)  (8 GB RAM)\n",
      "itel Power 450 | 2.4 inch Big Display | 2500 mAh Battery | Type C Charging  (Dark Grey)\n",
      "Lvix L1 CAR  (Yellow)\n",
      "Motorola g31 (Baby Blue, 128 GB)  (6 GB RAM)\n",
      "Micromax X512  (Black&Red)\n",
      "Apple iPhone 14 Plus (Yellow, 256 GB)\n",
      "ringme R1 1282  (White)\n",
      "realme Narzo 60x 5G (Stellar Green, 128 GB)  (4 GB RAM)\n",
      "itel Power 450 | 2.4 inch Big Display | 2500 mAh Battery | Type C Charging  (Deep Blue)\n",
      "Kechaoda A26  (Black)\n",
      "I Kall K41-New with four sim support  (Blue)\n",
      "Honor 90 5G (Midnight Black, 512 GB)  (12 GB RAM)\n",
      "Kechaoda K28  (Black + Grey)\n",
      "Honor X9b (Sunrise Orange, 256 GB)  (8 GB RAM)\n",
      "DIZO Star 300  (Black)\n",
      "Snexian ROCK 312  (Light Blue)\n",
      "Honor 90 5G (Emerald Green, 512 GB)  (12 GB RAM)\n",
      "Snexian GURU 310  (Yellow)\n",
      "itel A60s (Shadow Black, 64 GB)  (4 GB RAM)\n",
      "KARBONN K140 Pop  (Black)\n",
      "vivo Y27 (Sea Blue, 128 GB)  (6 GB RAM)\n",
      "LAVA A5_23 Keypad Mobile| 1000 mAh Battery|0.3MP Rear Camera|Expandable Upto 32 GB  (Black)\n",
      "OPPO A18 (Glowing Black, 64 GB)  (4 GB RAM)\n",
      "itel it5262  (Green)\n",
      "OnePlus 12R (Cool Blue, 256 GB)  (8 GB RAM)\n",
      "realme GT 6T 5G (Fluid Silver, 128 GB)  (8 GB RAM)\n",
      "LAVA Gem Power 22  (Blue)\n",
      "Motorola G32 (Satin Maroon, 128 GB)  (8 GB RAM)\n",
      "Micromax X512  (Blue)\n",
      "I Kall K3310  (Black)\n",
      "OPPO A17k (Blue, 64 GB)  (3 GB RAM)\n",
      "vivo V29e 5G (Artistic Blue, 256 GB)  (8 GB RAM)\n",
      "Kechaoda K-9  (WhiteIIBlackIIRed)\n",
      "realme Narzo N65 5G (Deep Green, 128 GB)  (6 GB RAM)\n",
      "realme Narzo N65 5G (Deep Green, 128 GB)  (4 GB RAM)\n",
      "realme Narzo N65 5G (Amber Gold, 128 GB)  (6 GB RAM)\n",
      "itel A05s (Nebula Black, 64 GB)  (4 GB RAM)\n",
      "Infinix Smart 8 Plus (Shiny Gold, 128 GB)  (4 GB RAM)\n",
      "Motorola g14 (Sky Blue, 128 GB)  (4 GB RAM)\n",
      "Motorola G32 (Satin Silver, 128 GB)  (8 GB RAM)\n",
      "realme Narzo N55 (Prime Black, 128 GB)  (6 GB RAM)\n",
      "LAVA A7 Torch Dual Sim Keypad Phone| 2574 mAh Battery| Expandable Upto 32 GB (Blue)  (Blue)\n",
      "OnePlus 12 (Flowy Emerald, 512 GB)  (16 GB RAM)\n",
      "itel A05s | Typse C Charging | 4000 mAh Battery | Side FingerPrint (Glorious Orange, 64 GB)  (4 GB RAM)\n",
      "IAIR D7 MINI  (Sky Blue)\n",
      "realme Narzo N53 (Feather Gold, 128 GB)  (6 GB RAM)\n",
      "Kechaoda K200  (Black)\n",
      "Nokia 215 DS 4G Keypad Phone with Long Battery Life,Wireless FM Radio  (Cyan)\n",
      "itel S23 (Chrome Silver, 128 GB)  (8 GB RAM)\n",
      "vivo Y21T (Midnight Blue, 128 GB)  (4 GB RAM)\n",
      "Snexian Bold V1  (Maroon)\n",
      "IQOO NEO9 PRO (Fiery Red, 256 GB)  (12 GB RAM)\n",
      "IQOO Neo9 Pro (Conqueror Black, 256 GB)  (12 GB RAM)\n",
      "Motorola Moto A10E  (Dark Blue)\n",
      "SAREGAMA Carvaan Mobile Hindi Don Lite M13 with 351 pre-loaded songs  (Iris Orange)\n",
      "IQOO Neo9 Pro (Conqueror Black, 256 GB)  (8 GB RAM)\n",
      "Kechaoda A8  (Golden)\n",
      "IQOO Z9X (Tornado Green, 128 GB)  (8 GB RAM)\n"
     ]
    }
   ],
   "source": [
    "for i in (df[df['quick_charge'].isnull()].title):\n",
    "    print(i)"
   ]
  },
  {
   "cell_type": "code",
   "execution_count": 457,
   "metadata": {},
   "outputs": [
    {
     "data": {
      "text/plain": [
       "221"
      ]
     },
     "execution_count": 457,
     "metadata": {},
     "output_type": "execute_result"
    }
   ],
   "source": [
    "df['quick_charge'].isnull().sum()"
   ]
  },
  {
   "cell_type": "code",
   "execution_count": 458,
   "metadata": {},
   "outputs": [],
   "source": [
    "df['quick_charge'] = df.apply(\n",
    "    lambda x : x['quick_charge'].lower() if not pd.isna(x['quick_charge'])\n",
    "    else \"yes\" if \"GB\" in x['title'] else \"no\"\n",
    "    ,axis=1)"
   ]
  },
  {
   "cell_type": "code",
   "execution_count": 459,
   "metadata": {},
   "outputs": [
    {
     "data": {
      "text/plain": [
       "0      yes\n",
       "1      yes\n",
       "2      yes\n",
       "3      yes\n",
       "4      yes\n",
       "      ... \n",
       "545     no\n",
       "546    yes\n",
       "547    yes\n",
       "548     no\n",
       "549    yes\n",
       "Name: quick_charge, Length: 550, dtype: object"
      ]
     },
     "execution_count": 459,
     "metadata": {},
     "output_type": "execute_result"
    }
   ],
   "source": [
    "df.quick_charge"
   ]
  },
  {
   "cell_type": "markdown",
   "metadata": {},
   "source": [
    "##### Display size"
   ]
  },
  {
   "cell_type": "code",
   "execution_count": 460,
   "metadata": {},
   "outputs": [
    {
     "data": {
      "text/plain": [
       "0      17.12 cm (6.74 inch)\n",
       "1      17.12 cm (6.74 inch)\n",
       "2       16.51 cm (6.5 inch)\n",
       "3      17.25 cm (6.79 inch)\n",
       "4       16.51 cm (6.5 inch)\n",
       "               ...         \n",
       "545      4.57 cm (1.8 inch)\n",
       "546     17.02 cm (6.7 inch)\n",
       "547    17.22 cm (6.78 inch)\n",
       "548      8.89 cm (3.5 inch)\n",
       "549    17.07 cm (6.72 inch)\n",
       "Name: Display Size, Length: 550, dtype: object"
      ]
     },
     "execution_count": 460,
     "metadata": {},
     "output_type": "execute_result"
    }
   ],
   "source": [
    "df['Display Size']"
   ]
  },
  {
   "cell_type": "code",
   "execution_count": 461,
   "metadata": {},
   "outputs": [
    {
     "data": {
      "text/plain": [
       "0"
      ]
     },
     "execution_count": 461,
     "metadata": {},
     "output_type": "execute_result"
    }
   ],
   "source": [
    "df['Display Size'].isnull().sum()"
   ]
  },
  {
   "cell_type": "code",
   "execution_count": 462,
   "metadata": {},
   "outputs": [
    {
     "name": "stdout",
     "output_type": "stream",
     "text": [
      "156\n"
     ]
    }
   ],
   "source": [
    "for i in range(df.shape[0]):\n",
    "    try:\n",
    "        float(df['Display Size'][i].split()[0])\n",
    "    except:\n",
    "        print(i)"
   ]
  },
  {
   "cell_type": "code",
   "execution_count": 463,
   "metadata": {},
   "outputs": [
    {
     "data": {
      "text/plain": [
       "'cm'"
      ]
     },
     "execution_count": 463,
     "metadata": {},
     "output_type": "execute_result"
    }
   ],
   "source": [
    "df['Display Size'][156]"
   ]
  },
  {
   "cell_type": "code",
   "execution_count": 464,
   "metadata": {},
   "outputs": [],
   "source": [
    "df['display'] = df['Display Size'].apply(lambda x : float(x.split()[0]) if x!='cm' else np.nan)"
   ]
  },
  {
   "cell_type": "code",
   "execution_count": 465,
   "metadata": {},
   "outputs": [
    {
     "data": {
      "text/plain": [
       "0      17.12\n",
       "1      17.12\n",
       "2      16.51\n",
       "3      17.25\n",
       "4      16.51\n",
       "       ...  \n",
       "545     4.57\n",
       "546    17.02\n",
       "547    17.22\n",
       "548     8.89\n",
       "549    17.07\n",
       "Name: display, Length: 550, dtype: float64"
      ]
     },
     "execution_count": 465,
     "metadata": {},
     "output_type": "execute_result"
    }
   ],
   "source": [
    "df.display"
   ]
  },
  {
   "cell_type": "markdown",
   "metadata": {},
   "source": [
    "##### Resolution"
   ]
  },
  {
   "cell_type": "code",
   "execution_count": 466,
   "metadata": {},
   "outputs": [
    {
     "data": {
      "text/plain": [
       "0        1650 x 720 Pixels\n",
       "1        1650 x 720 Pixels\n",
       "2        1600 x 720 Pixels\n",
       "3       2460 x 1080 Pixels\n",
       "4        1600 x 720 Pixels\n",
       "              ...         \n",
       "545       128 x 160 Pixels\n",
       "546     2400 x 1080 Pixels\n",
       "547    1260 x 2800$$pixels\n",
       "548      240 x 320$$pixels\n",
       "549              2408*1080\n",
       "Name: Resolution, Length: 550, dtype: object"
      ]
     },
     "execution_count": 466,
     "metadata": {},
     "output_type": "execute_result"
    }
   ],
   "source": [
    "df.Resolution"
   ]
  },
  {
   "cell_type": "code",
   "execution_count": 467,
   "metadata": {},
   "outputs": [
    {
     "name": "stdout",
     "output_type": "stream",
     "text": [
      "111\n",
      "156\n",
      "162\n",
      "533\n",
      "541\n"
     ]
    }
   ],
   "source": [
    "for i in range(df.shape[0]):\n",
    "    try:\n",
    "        re.findall(r'\\d+', df.Resolution[i])[1]\n",
    "    except:\n",
    "        print(i)"
   ]
  },
  {
   "cell_type": "code",
   "execution_count": 468,
   "metadata": {},
   "outputs": [
    {
     "data": {
      "text/plain": [
       "111    QQVGA\n",
       "156      NaN\n",
       "162       No\n",
       "533     QVGA\n",
       "541        0\n",
       "Name: Resolution, dtype: object"
      ]
     },
     "execution_count": 468,
     "metadata": {},
     "output_type": "execute_result"
    }
   ],
   "source": [
    "df.Resolution.iloc[[111,156,162,533,541]]"
   ]
  },
  {
   "cell_type": "code",
   "execution_count": 469,
   "metadata": {},
   "outputs": [],
   "source": [
    "def resolution(x):\n",
    "    h = w = np.nan\n",
    "    try:\n",
    "        if x == \"QQVGA\":\n",
    "            h = 160\n",
    "            w = 120\n",
    "        elif x == \"QVGA\":\n",
    "            h = 320\n",
    "            w = 240\n",
    "        else:\n",
    "            a = re.findall(r'\\d+', x)\n",
    "            if len(a) == 2:\n",
    "                h = int(a[0])\n",
    "                w = int(a[1])\n",
    "        return pd.Series([h,w])\n",
    "    except:\n",
    "        return pd.Series([h,w])"
   ]
  },
  {
   "cell_type": "code",
   "execution_count": 470,
   "metadata": {},
   "outputs": [],
   "source": [
    "df[['height','width']] = df.Resolution.apply(resolution)"
   ]
  },
  {
   "cell_type": "code",
   "execution_count": 471,
   "metadata": {},
   "outputs": [
    {
     "data": {
      "text/html": [
       "<div>\n",
       "<style scoped>\n",
       "    .dataframe tbody tr th:only-of-type {\n",
       "        vertical-align: middle;\n",
       "    }\n",
       "\n",
       "    .dataframe tbody tr th {\n",
       "        vertical-align: top;\n",
       "    }\n",
       "\n",
       "    .dataframe thead th {\n",
       "        text-align: right;\n",
       "    }\n",
       "</style>\n",
       "<table border=\"1\" class=\"dataframe\">\n",
       "  <thead>\n",
       "    <tr style=\"text-align: right;\">\n",
       "      <th></th>\n",
       "      <th>height</th>\n",
       "      <th>width</th>\n",
       "    </tr>\n",
       "  </thead>\n",
       "  <tbody>\n",
       "    <tr>\n",
       "      <th>0</th>\n",
       "      <td>1650.0</td>\n",
       "      <td>720.0</td>\n",
       "    </tr>\n",
       "    <tr>\n",
       "      <th>1</th>\n",
       "      <td>1650.0</td>\n",
       "      <td>720.0</td>\n",
       "    </tr>\n",
       "    <tr>\n",
       "      <th>2</th>\n",
       "      <td>1600.0</td>\n",
       "      <td>720.0</td>\n",
       "    </tr>\n",
       "    <tr>\n",
       "      <th>3</th>\n",
       "      <td>2460.0</td>\n",
       "      <td>1080.0</td>\n",
       "    </tr>\n",
       "    <tr>\n",
       "      <th>4</th>\n",
       "      <td>1600.0</td>\n",
       "      <td>720.0</td>\n",
       "    </tr>\n",
       "    <tr>\n",
       "      <th>...</th>\n",
       "      <td>...</td>\n",
       "      <td>...</td>\n",
       "    </tr>\n",
       "    <tr>\n",
       "      <th>545</th>\n",
       "      <td>128.0</td>\n",
       "      <td>160.0</td>\n",
       "    </tr>\n",
       "    <tr>\n",
       "      <th>546</th>\n",
       "      <td>2400.0</td>\n",
       "      <td>1080.0</td>\n",
       "    </tr>\n",
       "    <tr>\n",
       "      <th>547</th>\n",
       "      <td>1260.0</td>\n",
       "      <td>2800.0</td>\n",
       "    </tr>\n",
       "    <tr>\n",
       "      <th>548</th>\n",
       "      <td>240.0</td>\n",
       "      <td>320.0</td>\n",
       "    </tr>\n",
       "    <tr>\n",
       "      <th>549</th>\n",
       "      <td>2408.0</td>\n",
       "      <td>1080.0</td>\n",
       "    </tr>\n",
       "  </tbody>\n",
       "</table>\n",
       "<p>550 rows × 2 columns</p>\n",
       "</div>"
      ],
      "text/plain": [
       "     height   width\n",
       "0    1650.0   720.0\n",
       "1    1650.0   720.0\n",
       "2    1600.0   720.0\n",
       "3    2460.0  1080.0\n",
       "4    1600.0   720.0\n",
       "..      ...     ...\n",
       "545   128.0   160.0\n",
       "546  2400.0  1080.0\n",
       "547  1260.0  2800.0\n",
       "548   240.0   320.0\n",
       "549  2408.0  1080.0\n",
       "\n",
       "[550 rows x 2 columns]"
      ]
     },
     "execution_count": 471,
     "metadata": {},
     "output_type": "execute_result"
    }
   ],
   "source": [
    "df[['height','width']]"
   ]
  },
  {
   "cell_type": "code",
   "execution_count": 472,
   "metadata": {},
   "outputs": [
    {
     "data": {
      "text/plain": [
       "height    3\n",
       "width     3\n",
       "dtype: int64"
      ]
     },
     "execution_count": 472,
     "metadata": {},
     "output_type": "execute_result"
    }
   ],
   "source": [
    "df[['height','width']].isnull().sum()"
   ]
  },
  {
   "cell_type": "markdown",
   "metadata": {},
   "source": [
    "##### GPU"
   ]
  },
  {
   "cell_type": "code",
   "execution_count": 473,
   "metadata": {},
   "outputs": [],
   "source": [
    "df['GPU'] = df['GPU'].apply(lambda x: \"no\" if pd.isna(x) else \"yes\")"
   ]
  },
  {
   "cell_type": "code",
   "execution_count": 474,
   "metadata": {},
   "outputs": [
    {
     "data": {
      "text/plain": [
       "0      yes\n",
       "1      yes\n",
       "2      yes\n",
       "3      yes\n",
       "4      yes\n",
       "      ... \n",
       "545     no\n",
       "546    yes\n",
       "547     no\n",
       "548     no\n",
       "549     no\n",
       "Name: GPU, Length: 550, dtype: object"
      ]
     },
     "execution_count": 474,
     "metadata": {},
     "output_type": "execute_result"
    }
   ],
   "source": [
    "df.GPU"
   ]
  },
  {
   "cell_type": "code",
   "execution_count": 475,
   "metadata": {},
   "outputs": [
    {
     "data": {
      "text/plain": [
       "0"
      ]
     },
     "execution_count": 475,
     "metadata": {},
     "output_type": "execute_result"
    }
   ],
   "source": [
    "df.GPU.isnull().sum()"
   ]
  },
  {
   "cell_type": "markdown",
   "metadata": {},
   "source": [
    "##### Operating System"
   ]
  },
  {
   "cell_type": "code",
   "execution_count": 476,
   "metadata": {},
   "outputs": [
    {
     "data": {
      "text/plain": [
       "array(['Android 13', 'Android 14', 'iOS 16', 'Android Android 13', nan,\n",
       "       'Series 30+', 'Android 13 Go', 'Symbian',\n",
       "       'Android Oxygen OxygenOS 14.0', '2.0',\n",
       "       'Android OxygenOS based on Android 13', '0', 'iOS 17',\n",
       "       'Android 10', 'Android Android 13.0', 'Android 12', 'RTOS',\n",
       "       'Android Oxygen OxygenOS based on Android 13', 'Belle',\n",
       "       'Android Oxygen 12.1', 'Android Android 13 Go', '3.0',\n",
       "       'Android Android 14', 'Nucleus OS', 'Android Oxygen 13', 'Android',\n",
       "       'Series 30 Feature phone', 'Android 11', 'Android ANDROID 14',\n",
       "       'Android Android 13 (Go edition), HIOS 13',\n",
       "       'Android Q ?Funtouch OS 14 Based On Android 14',\n",
       "       'Android Oxygen Android 13.1', 'RTOS (Mocor)',\n",
       "       'Android Android 13 GO', '1', 'Android Pie 9.0', 'iOS 14',\n",
       "       'Symbian 1', 'Android Q 13', 'Android Android 14.0', '1.77', '4.1',\n",
       "       'Android Android 13, v13.0 Operating System having One UI Core 5.1',\n",
       "       'Android Q 13.0', 'Android Android 13.0, MagicOS 7.1',\n",
       "       'Android 13.0', 'Android 12 Go Edition', 'iOS 15', 'Android 14 Go',\n",
       "       'Android Oxygen OxygenOS 14', 'Android Oxygen OxygenOS14.0',\n",
       "       'Android Q 12', 'Android Android V14', 'Android Android v14',\n",
       "       'Android Q Funtouch OS 14 based on Android 14'], dtype=object)"
      ]
     },
     "execution_count": 476,
     "metadata": {},
     "output_type": "execute_result"
    }
   ],
   "source": [
    "df['Operating System'].unique()"
   ]
  },
  {
   "cell_type": "code",
   "execution_count": 477,
   "metadata": {},
   "outputs": [],
   "source": [
    "def os(x):\n",
    "    a = \"o\"\n",
    "    try:\n",
    "        x = x.lower()\n",
    "        if \"android\" in x:\n",
    "            a = 'a' + re.findall(r'\\d+',x)[-1]\n",
    "        elif \"iOS\" in x:\n",
    "            a = 'i' + re.findall(r'\\d+',x)[-1]\n",
    "        return a\n",
    "    except:\n",
    "        return a"
   ]
  },
  {
   "cell_type": "code",
   "execution_count": 478,
   "metadata": {},
   "outputs": [
    {
     "data": {
      "text/plain": [
       "Operating System\n",
       "a13    191\n",
       "o      188\n",
       "a14    125\n",
       "a0      19\n",
       "a12     15\n",
       "a1       7\n",
       "a11      4\n",
       "a10      1\n",
       "Name: count, dtype: int64"
      ]
     },
     "execution_count": 478,
     "metadata": {},
     "output_type": "execute_result"
    }
   ],
   "source": [
    "df['Operating System'].apply(os).value_counts()"
   ]
  },
  {
   "cell_type": "code",
   "execution_count": 479,
   "metadata": {},
   "outputs": [],
   "source": [
    "df['os'] = df['Operating System'].apply(os)"
   ]
  },
  {
   "cell_type": "markdown",
   "metadata": {},
   "source": [
    "##### Processor brand"
   ]
  },
  {
   "cell_type": "code",
   "execution_count": 480,
   "metadata": {},
   "outputs": [
    {
     "data": {
      "text/plain": [
       "0        Mediatek\n",
       "1        Mediatek\n",
       "2      Snapdragon\n",
       "3      Snapdragon\n",
       "4      Snapdragon\n",
       "          ...    \n",
       "545           NaN\n",
       "546    Snapdragon\n",
       "547    Snapdragon\n",
       "548           NaN\n",
       "549    Snapdragon\n",
       "Name: Processor Brand, Length: 550, dtype: object"
      ]
     },
     "execution_count": 480,
     "metadata": {},
     "output_type": "execute_result"
    }
   ],
   "source": [
    "df['Processor Brand']"
   ]
  },
  {
   "cell_type": "code",
   "execution_count": 481,
   "metadata": {},
   "outputs": [
    {
     "data": {
      "text/plain": [
       "Processor Brand\n",
       "Mediatek      206\n",
       "Snapdragon     98\n",
       "Unisoc         58\n",
       "Exynos         27\n",
       "Apple          15\n",
       "Spreadtrum     13\n",
       "Google          4\n",
       "Qualcomm        4\n",
       "AMD             1\n",
       "Name: count, dtype: int64"
      ]
     },
     "execution_count": 481,
     "metadata": {},
     "output_type": "execute_result"
    }
   ],
   "source": [
    "df['Processor Brand'].value_counts()"
   ]
  },
  {
   "cell_type": "markdown",
   "metadata": {},
   "source": [
    "##### Processor type"
   ]
  },
  {
   "cell_type": "code",
   "execution_count": 482,
   "metadata": {},
   "outputs": [
    {
     "data": {
      "text/plain": [
       "0      Mediatek Dimensity 6100+\n",
       "1      Mediatek Dimensity 6100+\n",
       "2             Snapdragon 695 5G\n",
       "3            Snapdragon 4 Gen 2\n",
       "4             Snapdragon 695 5G\n",
       "                 ...           \n",
       "545                         NaN\n",
       "546                    7s Gen 2\n",
       "547                         NaN\n",
       "548                         NaN\n",
       "549                         NaN\n",
       "Name: Processor Type, Length: 550, dtype: object"
      ]
     },
     "execution_count": 482,
     "metadata": {},
     "output_type": "execute_result"
    }
   ],
   "source": [
    "df['Processor Type']"
   ]
  },
  {
   "cell_type": "code",
   "execution_count": 483,
   "metadata": {},
   "outputs": [
    {
     "data": {
      "text/plain": [
       "203"
      ]
     },
     "execution_count": 483,
     "metadata": {},
     "output_type": "execute_result"
    }
   ],
   "source": [
    "df['Processor Type'].isnull().sum()"
   ]
  },
  {
   "cell_type": "code",
   "execution_count": 484,
   "metadata": {},
   "outputs": [
    {
     "data": {
      "text/plain": [
       "95"
      ]
     },
     "execution_count": 484,
     "metadata": {},
     "output_type": "execute_result"
    }
   ],
   "source": [
    "df['Processor Type'].nunique()"
   ]
  },
  {
   "cell_type": "markdown",
   "metadata": {},
   "source": [
    "##### Processor core"
   ]
  },
  {
   "cell_type": "code",
   "execution_count": 485,
   "metadata": {},
   "outputs": [
    {
     "data": {
      "text/plain": [
       "0        Octa Core\n",
       "1        Octa Core\n",
       "2        Octa Core\n",
       "3        Octa Core\n",
       "4        Octa Core\n",
       "          ...     \n",
       "545    Single Core\n",
       "546      Octa Core\n",
       "547      Octa Core\n",
       "548            NaN\n",
       "549      Octa Core\n",
       "Name: Processor Core, Length: 550, dtype: object"
      ]
     },
     "execution_count": 485,
     "metadata": {},
     "output_type": "execute_result"
    }
   ],
   "source": [
    "df['Processor Core']"
   ]
  },
  {
   "cell_type": "code",
   "execution_count": 486,
   "metadata": {},
   "outputs": [],
   "source": [
    "df['core'] = df['Processor Core'].apply(lambda x : x if pd.isna(x) else x.split()[0])"
   ]
  },
  {
   "cell_type": "markdown",
   "metadata": {},
   "source": [
    "##### Primary Clock Speed"
   ]
  },
  {
   "cell_type": "code",
   "execution_count": 487,
   "metadata": {},
   "outputs": [
    {
     "data": {
      "text/plain": [
       "0         2.2 GHz\n",
       "1         2.2 GHz\n",
       "2         2.2 GHz\n",
       "3         2.2 GHz\n",
       "4         2.2 GHz\n",
       "          ...    \n",
       "545    32.768 MHz\n",
       "546       2.4 GHz\n",
       "547       3.2 GHz\n",
       "548           NaN\n",
       "549       2.2 GHz\n",
       "Name: Primary Clock Speed, Length: 550, dtype: object"
      ]
     },
     "execution_count": 487,
     "metadata": {},
     "output_type": "execute_result"
    }
   ],
   "source": [
    "df['Primary Clock Speed']"
   ]
  },
  {
   "cell_type": "code",
   "execution_count": 488,
   "metadata": {},
   "outputs": [
    {
     "data": {
      "text/plain": [
       "73"
      ]
     },
     "execution_count": 488,
     "metadata": {},
     "output_type": "execute_result"
    }
   ],
   "source": [
    "df['Primary Clock Speed'].isnull().sum()"
   ]
  },
  {
   "cell_type": "code",
   "execution_count": 489,
   "metadata": {},
   "outputs": [],
   "source": [
    "df['clock_speed'] = df['Primary Clock Speed'].apply(lambda x : x if pd.isna(x) else float(x.split()[0]))"
   ]
  },
  {
   "cell_type": "code",
   "execution_count": 490,
   "metadata": {},
   "outputs": [
    {
     "data": {
      "text/plain": [
       "0       2.200\n",
       "1       2.200\n",
       "2       2.200\n",
       "3       2.200\n",
       "4       2.200\n",
       "        ...  \n",
       "545    32.768\n",
       "546     2.400\n",
       "547     3.200\n",
       "548       NaN\n",
       "549     2.200\n",
       "Name: clock_speed, Length: 550, dtype: float64"
      ]
     },
     "execution_count": 490,
     "metadata": {},
     "output_type": "execute_result"
    }
   ],
   "source": [
    "df.clock_speed"
   ]
  },
  {
   "cell_type": "markdown",
   "metadata": {},
   "source": [
    "##### Internal Camera"
   ]
  },
  {
   "cell_type": "code",
   "execution_count": 491,
   "metadata": {},
   "outputs": [
    {
     "data": {
      "text/plain": [
       "0      128 GB\n",
       "1      128 GB\n",
       "2      128 GB\n",
       "3      128 GB\n",
       "4      128 GB\n",
       "        ...  \n",
       "545      2 GB\n",
       "546    128 GB\n",
       "547    256 GB\n",
       "548     64 MB\n",
       "549    128 GB\n",
       "Name: Internal Storage, Length: 550, dtype: object"
      ]
     },
     "execution_count": 491,
     "metadata": {},
     "output_type": "execute_result"
    }
   ],
   "source": [
    "df['Internal Storage']"
   ]
  },
  {
   "cell_type": "code",
   "execution_count": 492,
   "metadata": {},
   "outputs": [
    {
     "data": {
      "text/plain": [
       "3"
      ]
     },
     "execution_count": 492,
     "metadata": {},
     "output_type": "execute_result"
    }
   ],
   "source": [
    "df['Internal Storage'].isnull().sum()"
   ]
  },
  {
   "cell_type": "code",
   "execution_count": 493,
   "metadata": {},
   "outputs": [
    {
     "name": "stdout",
     "output_type": "stream",
     "text": [
      "nan\n",
      "NA MB\n",
      "2.27 MB\n",
      "2.3 MB\n",
      "nan\n",
      "nan\n",
      "0.125 GB\n",
      "0.125 GB\n",
      "0.125 GB\n"
     ]
    }
   ],
   "source": [
    "for i in range(df.shape[0]):\n",
    "    try:\n",
    "        int(df['Internal Storage'][i].split()[0])\n",
    "    except:\n",
    "        print(df['Internal Storage'][i])"
   ]
  },
  {
   "cell_type": "code",
   "execution_count": 494,
   "metadata": {},
   "outputs": [],
   "source": [
    "df['storage'] = df['Internal Storage'].apply(lambda x : x if (pd.isna(x) or x==\"NA\") else float(x.split()[0]) if x.split()[0]!= \"NA\" else np.nan)"
   ]
  },
  {
   "cell_type": "code",
   "execution_count": 495,
   "metadata": {},
   "outputs": [
    {
     "data": {
      "text/plain": [
       "0      128.0\n",
       "1      128.0\n",
       "2      128.0\n",
       "3      128.0\n",
       "4      128.0\n",
       "       ...  \n",
       "545      2.0\n",
       "546    128.0\n",
       "547    256.0\n",
       "548     64.0\n",
       "549    128.0\n",
       "Name: storage, Length: 550, dtype: float64"
      ]
     },
     "execution_count": 495,
     "metadata": {},
     "output_type": "execute_result"
    }
   ],
   "source": [
    "df.storage"
   ]
  },
  {
   "cell_type": "markdown",
   "metadata": {},
   "source": [
    "##### RAM"
   ]
  },
  {
   "cell_type": "code",
   "execution_count": 496,
   "metadata": {},
   "outputs": [
    {
     "data": {
      "text/plain": [
       "0       4 GB\n",
       "1       6 GB\n",
       "2       8 GB\n",
       "3       6 GB\n",
       "4       8 GB\n",
       "       ...  \n",
       "545    32 MB\n",
       "546     8 GB\n",
       "547     8 GB\n",
       "548    32 MB\n",
       "549     8 GB\n",
       "Name: RAM, Length: 550, dtype: object"
      ]
     },
     "execution_count": 496,
     "metadata": {},
     "output_type": "execute_result"
    }
   ],
   "source": [
    "df['RAM']"
   ]
  },
  {
   "cell_type": "code",
   "execution_count": 497,
   "metadata": {},
   "outputs": [
    {
     "data": {
      "text/plain": [
       "array(['GB', nan, 'MB'], dtype=object)"
      ]
     },
     "execution_count": 497,
     "metadata": {},
     "output_type": "execute_result"
    }
   ],
   "source": [
    "df['RAM'].apply(lambda x : x if (pd.isna(x) or x==\"NA\") else x.split()[1]).unique()"
   ]
  },
  {
   "cell_type": "code",
   "execution_count": 498,
   "metadata": {},
   "outputs": [],
   "source": [
    "df['RAM'] = df['RAM'].apply(lambda x : x if (pd.isna(x) or x==\"NA\") else float(x.split()[0])*0.001 if \"MB\" in x else float(x.split()[0]))"
   ]
  },
  {
   "cell_type": "code",
   "execution_count": 499,
   "metadata": {},
   "outputs": [
    {
     "data": {
      "text/plain": [
       "0      4.000\n",
       "1      6.000\n",
       "2      8.000\n",
       "3      6.000\n",
       "4      8.000\n",
       "       ...  \n",
       "545    0.032\n",
       "546    8.000\n",
       "547    8.000\n",
       "548    0.032\n",
       "549    8.000\n",
       "Name: RAM, Length: 550, dtype: float64"
      ]
     },
     "execution_count": 499,
     "metadata": {},
     "output_type": "execute_result"
    }
   ],
   "source": [
    "df.RAM"
   ]
  },
  {
   "cell_type": "markdown",
   "metadata": {},
   "source": [
    "##### Expandable Storage"
   ]
  },
  {
   "cell_type": "code",
   "execution_count": 500,
   "metadata": {},
   "outputs": [
    {
     "data": {
      "text/plain": [
       "0       1 TB\n",
       "1       1 TB\n",
       "2        NaN\n",
       "3       1 TB\n",
       "4        NaN\n",
       "       ...  \n",
       "545      NaN\n",
       "546      NaN\n",
       "547      NaN\n",
       "548    32 GB\n",
       "549      NaN\n",
       "Name: Expandable Storage, Length: 550, dtype: object"
      ]
     },
     "execution_count": 500,
     "metadata": {},
     "output_type": "execute_result"
    }
   ],
   "source": [
    "df['Expandable Storage']"
   ]
  },
  {
   "cell_type": "code",
   "execution_count": 501,
   "metadata": {},
   "outputs": [],
   "source": [
    "def expandable(x):\n",
    "    try:\n",
    "        a = float(x.split()[0])\n",
    "        if \"G\" in x:\n",
    "            return a\n",
    "        elif \"M\" in x:\n",
    "            return a*0.001\n",
    "        else:\n",
    "            return a*1000\n",
    "    except:\n",
    "        return x"
   ]
  },
  {
   "cell_type": "code",
   "execution_count": 502,
   "metadata": {},
   "outputs": [],
   "source": [
    "df['expandable'] = df['Expandable Storage'].apply(expandable)"
   ]
  },
  {
   "cell_type": "code",
   "execution_count": 503,
   "metadata": {},
   "outputs": [
    {
     "data": {
      "text/plain": [
       "0      1000.0\n",
       "1      1000.0\n",
       "2         NaN\n",
       "3      1000.0\n",
       "4         NaN\n",
       "        ...  \n",
       "545       NaN\n",
       "546       NaN\n",
       "547       NaN\n",
       "548      32.0\n",
       "549       NaN\n",
       "Name: expandable, Length: 550, dtype: float64"
      ]
     },
     "execution_count": 503,
     "metadata": {},
     "output_type": "execute_result"
    }
   ],
   "source": [
    "df['expandable']"
   ]
  },
  {
   "cell_type": "markdown",
   "metadata": {},
   "source": [
    "##### Primary camera"
   ]
  },
  {
   "cell_type": "code",
   "execution_count": 504,
   "metadata": {},
   "outputs": [],
   "source": [
    "df ['camera'] = df['Primary Camera'].apply(lambda x :\n",
    "                                            x if pd.isna(x)\n",
    "                                            else\n",
    "                                            sum([int(i) for i in re.findall(r'\\d+',x)]))"
   ]
  },
  {
   "cell_type": "code",
   "execution_count": 505,
   "metadata": {},
   "outputs": [
    {
     "data": {
      "text/plain": [
       "0      50.0\n",
       "1      50.0\n",
       "2      52.0\n",
       "3      52.0\n",
       "4      52.0\n",
       "       ... \n",
       "545     NaN\n",
       "546    63.0\n",
       "547    50.0\n",
       "548     3.0\n",
       "549    50.0\n",
       "Name: camera, Length: 550, dtype: float64"
      ]
     },
     "execution_count": 505,
     "metadata": {},
     "output_type": "execute_result"
    }
   ],
   "source": [
    "df.camera"
   ]
  },
  {
   "cell_type": "markdown",
   "metadata": {},
   "source": [
    "##### Secondary camera"
   ]
  },
  {
   "cell_type": "code",
   "execution_count": 506,
   "metadata": {},
   "outputs": [],
   "source": [
    "df['secondary_camera'] = df['Secondary Camera'].apply(lambda x: x if pd.isna(x) else int(re.findall(r'\\d+',x)[0]))"
   ]
  },
  {
   "cell_type": "code",
   "execution_count": 507,
   "metadata": {},
   "outputs": [
    {
     "data": {
      "text/plain": [
       "0       5.0\n",
       "1       5.0\n",
       "2      16.0\n",
       "3       8.0\n",
       "4      16.0\n",
       "       ... \n",
       "545     NaN\n",
       "546    32.0\n",
       "547     NaN\n",
       "548     NaN\n",
       "549     NaN\n",
       "Name: secondary_camera, Length: 550, dtype: float64"
      ]
     },
     "execution_count": 507,
     "metadata": {},
     "output_type": "execute_result"
    }
   ],
   "source": [
    "df.secondary_camera"
   ]
  },
  {
   "cell_type": "markdown",
   "metadata": {},
   "source": [
    "##### HD recording"
   ]
  },
  {
   "cell_type": "code",
   "execution_count": 508,
   "metadata": {},
   "outputs": [
    {
     "data": {
      "text/plain": [
       "0      Yes\n",
       "1      Yes\n",
       "2      Yes\n",
       "3      Yes\n",
       "4      Yes\n",
       "      ... \n",
       "545    NaN\n",
       "546    Yes\n",
       "547    NaN\n",
       "548    NaN\n",
       "549    NaN\n",
       "Name: HD Recording, Length: 550, dtype: object"
      ]
     },
     "execution_count": 508,
     "metadata": {},
     "output_type": "execute_result"
    }
   ],
   "source": [
    "df['HD Recording']"
   ]
  },
  {
   "cell_type": "markdown",
   "metadata": {},
   "source": [
    "##### Video Recording Resolution"
   ]
  },
  {
   "cell_type": "code",
   "execution_count": 509,
   "metadata": {},
   "outputs": [
    {
     "data": {
      "text/plain": [
       "0      Rear Camera: 1080p (at 30 fps), 720p (at 30 fp...\n",
       "1      Rear Camera: 1080p (at 30 fps), 720p (at 30 fp...\n",
       "2      Rear Camera: Main Camera (FHD (at 30 fps)), Ma...\n",
       "3      Rear Camera: 1080p (at 30 fps), 720p (at 30 fp...\n",
       "4      Rear Camera: Main Camera (FHD (at 30 fps)), Ma...\n",
       "                             ...                        \n",
       "545                                                  NaN\n",
       "546    Rear Camera: Main Camera [UHD (at 30 fps), UHD...\n",
       "547                                                  NaN\n",
       "548                                                  NaN\n",
       "549                                                  NaN\n",
       "Name: Video Recording Resolution, Length: 550, dtype: object"
      ]
     },
     "execution_count": 509,
     "metadata": {},
     "output_type": "execute_result"
    }
   ],
   "source": [
    "df['Video Recording Resolution']"
   ]
  },
  {
   "cell_type": "code",
   "execution_count": 510,
   "metadata": {},
   "outputs": [
    {
     "name": "stdout",
     "output_type": "stream",
     "text": [
      "Rear Camera: 1080p (at 30 fps), 720p (at 30 fps) | Front Camera: 1080p (at 30 fps), 720p (at 30 fps)\n",
      "Rear Camera: 1080p (at 30 fps), 720p (at 30 fps) | Front Camera: 1080p (at 30 fps), 720p (at 30 fps)\n",
      "Rear Camera: Main Camera (FHD (at 30 fps)), Macro Camera (HD (at 30 fps))\n",
      "Rear Camera: 1080p (at 30 fps), 720p (at 30 fps) | Front Camera: 1080p (at 30 fps), 720p (at 30 fps)\n",
      "Rear Camera: Main Camera (FHD (at 30 fps)), Macro Camera (HD (at 30 fps))\n",
      "Rear Camera: Main Camera (FHD (at 30 fps)), Macro Camera (HD (at 30 fps))\n",
      "Rear Camera: 1080p (at 30 fps), 720p (at 30 fps) | Front Camera: 1080p (at 30 fps), 720p (at 30 fps)\n",
      "Rear Camera: 1080p (at 30 fps), 720p (at 30 fps) | Front Camera: 1080p (at 30 fps), 720p (at 30 fps)\n",
      "Rear Camera: 4K (at 24 fps/ 25 fps/ 30 fps/ 60 fps), 1080P (at 120 fps/60 fps/30 fps/ 25 fps), 720P (at 30 fps) | Front Camera: 4K (at 24 fps/ 25 fps/ 30 fps/ 60 fps), 1080P (at 120 fps/60 fps/30 fps/ 25 fps)\n",
      "Rear Camera: 1080p (at 30 fps), 720p (at 30 fps) | Front Camera: 1080p (at 30 fps), 720p (at 30 fps)\n",
      "Rear Camera: 1080p (at 30 fps), 720p (at 30 fps) | Front Camera: 1080p (at 30 fps), 720p (at 30 fps)\n",
      "Rear Camera: 1080p (at 30 fps), 720p (at 30 fps) | Front Camera: 1080p (at 30 fps), 720p (at 30 fps)\n",
      "Rear Camera: 1080p (at 30 fps), 720p (at 30 fps) | Front Camera: 1080p (at 30 fps), 720p (at 30 fps)\n",
      "Rear Camera: 4K (at 24 fps/ 25 fps/ 30 fps/ 60 fps), 1080P (at 120 fps/60 fps/30 fps/ 25 fps), 720P (at 30 fps) | Front Camera: 4K (at 24 fps/ 25 fps/ 30 fps/ 60 fps), 1080P (at 120 fps/60 fps/30 fps/ 25 fps)\n",
      "Rear Camera: 1080p (at 30 fps), 720p (at 30 fps)|Front Camera: 1080p (at 30 fps), 720p (at 30 fps)\n",
      "nan\n",
      "Rear Camera: 1080p (at 30 fps), 720p (at 30 fps) | Front Camera: 1080p (at 30 fps), 720p (at 30 fps)\n",
      "Rear Camera: 1080p (at 30 fps), 720p (at 30 fps) | Front Camera: 1080p (at 30 fps), 720p (at 30 fps)\n",
      "Rear Camera: Main Camera (FHD (at 30 fps)), Macro Camera (HD (at 30 fps))\n",
      "Rear Camera: 1080p (at 30 fps), 720p (at 30 fps) | Front Camera: 1080p (at 30 fps), 720p (at 30 fps)\n",
      "Rear Camera: 1080p (at 30 fps), 720p (at 30 fps) | Front Camera: 1080p (at 30 fps), 720p (at 30 fps)\n",
      "Rear Camera: 1080p (at 30 fps), 720p (at 30 fps)|Front Camera: 1080p (at 30 fps), 720p (at 30 fps)\n",
      "nan\n",
      "Rear Camera: FHD (at 30 fps), HD (at 30 fps) | Front Camera: FHD (at 30 fps), HD (at 30 fps)\n",
      "nan\n",
      "nan\n",
      "nan\n",
      "Rear Main Camera Video: 1080p (at 30 fps), 720p (at 30 fps) | Front Camera: 1080p (at 30 fps), 720p (at 30 fps)\n",
      "Rear Main Camera Video: 1080p (at 30 fps), 720p (at 30 fps) | Front Camera: 1080p (at 30 fps), 720p (at 30 fps)\n",
      "Rear Camera: Main Camera (4K UHD (at 30 fps), FHD (at 60 fps/at 30 fps), Slow Motion: FHD (at 240 fps/at 120 fps), Portrait Video: HD (at 30 fps)) Ultra Wide/Macro Camera (4K UHD (at 30 fps), FHD (at 30 fps)) | Front Camera: FHD (at 30 fps), FHD (at 60 fps), Portrait Video: HD (at 30 fps)\n",
      "Rear Camera: Main Camera (FHD (at 30 fps)), Macro Camera (HD (at 30 fps))\n",
      "Rear Camera: 1080p (at 30 fps), 720p (at 30 fps) | Front Camera: 1080p (at 30 fps), 720p (at 30 fps)\n",
      "Rear Camera: Main Camera (FHD (at 30 fps)), Macro Camera (HD (at 30 fps))\n",
      "Rear Camera: FHD (at 30 fps), HD (at 30 fps) | Front Camera: FHD (at 30 fps), HD (at 30 fps)\n",
      "Rear Camera: 1080p (at 30 fps), 720p (at 30 fps)|Front Camera: 1080p (at 30 fps), 720p (at 30 fps)\n",
      "nan\n",
      "nan\n",
      "Rear Camera: 1080p (at 30 fps), 720p (at 30 fps) | Front Camera: 1080p (at 30 fps), 720p (at 30 fps)\n",
      "Rear Camera: FHD (at 30 fps), HD (at 30 fps) | Front Camera: FHD (at 30 fps), HD (at 30 fps)\n",
      "UHD 4K (at 30 fps)\n",
      "Rear Camera: Main Camera [FHD (at 30 fps)], Macro Camera [HD (at 30 fps)]|Front Camera: FHD (at 30 fps)\n",
      "Rear Camera: 1080p (at 30fps), 720p (at 30fps)|Front Camera: 1080p (at 30fps), 720p (at 30fps)\n",
      "Rear Camera: 1080p (at 30 fps), 720p (at 30 fps)| Front Camera: 1080p (at 30 fps), 720p (at 30 fps)\n",
      "Rear Camera: Main Camera (4K UHD (at 30 fps), FHD (at 60 fps/at 30 fps), Slow Motion: FHD (at 240 fps/at 120 fps), Portrait Video: HD (at 30 fps)) Ultra Wide/Macro Camera (4K UHD (at 30 fps), FHD (at 30 fps)) | Front Camera: FHD (at 30 fps), FHD (at 60 fps), Portrait Video: HD (at 30 fps)\n",
      "Rear Camera: Main Camera [FHD (at 30 fps)], Macro Camera [HD (at 30 fps)]|Front Camera: FHD (at 30 fps)\n",
      "UHD 4K (at 30 fps)\n",
      "nan\n",
      "nan\n",
      "Rear Camera: 1080p (at 30 fps), 720p (at 30 fps) | Front Camera: 1080p (at 30 fps), 720p (at 30 fps)\n",
      "nan\n",
      "Rear Camera: 1080p (at 30fps), 720p (at 30fps)|Front Camera: 1080p (at 30fps), 720p (at 30fps)\n",
      "nan\n",
      "Rear Camera: 4K (at 24 fps/ 25 fps/ 30 fps/ 60 fps), 1080P (at 120 fps/60 fps/30 fps/ 25 fps), 720P (at 30 fps) | Front Camera: 4K (at 24 fps/ 25 fps/ 30 fps/ 60 fps), 1080P (at 120 fps/60 fps/30 fps/ 25 fps)\n",
      "nan\n",
      "Rear Camera: 1080p (at 30 fps), 720p (at 30 fps)|Front Camera: 1080p (at 30 fps), 720p (at 30 fps)\n",
      "Rear Camera: 720p (at 30 fps/at 60 fps/at 240 fps/at 960 fps), 1080p (at 30 fps/at 60 fps/at 120 fps/at 480 fps), 4k (at 30 fps)| Front Camera: 720p (at 30 fps), 1080p (at 30 fps)\n",
      "Rear Camera: 1080p (at 30fps), 720p (at 30fps)|Front Camera: 1080p (at 30fps), 720p (at 30fps)\n",
      "Rear Camera: 1080p (at 30 fps), 720p (at 30 fps)| Front Camera: 1080p (at 30 fps), 720p (at 30 fps)\n",
      "nan\n",
      "Rear Camera: FHD (at 30 fps), HD (at 30 fps) | Front Camera: FHD (at 30 fps), HD (at 30 fps)\n",
      "Rear Camera: 720p (at 30 fps/at 60 fps/at 240 fps/at 960 fps), 1080p (at 30 fps/at 60 fps/at 120 fps/at 480 fps), 4k (at 30 fps)| Front Camera: 720p (at 30 fps), 1080p (at 30 fps)\n",
      "Rear Camera: 720p (at 30 fps/at 60 fps/at 240 fps/at 960 fps), 1080p (at 30 fps/at 60 fps/at 120 fps/at 480 fps), 4k (at 30 fps)| Front Camera: 720p (at 30 fps), 1080p (at 30 fps)\n",
      "Rear Camera: 1080p (at 30fps), 720p (at 30fps)|Front Camera: 1080p (at 30fps), 720p (at 30fps)\n",
      "Rear Camera: Main Camera (4K UHD (at 30 fps), FHD (at 60 fps/at 30 fps), Slow Motion: FHD (at 240 fps/at 120 fps), Portrait Video: HD (at 30 fps)) Ultra Wide/Macro Camera (4K UHD (at 30 fps), FHD (at 30 fps)) | Front Camera: FHD (at 30 fps), FHD (at 60 fps), Portrait Video: HD (at 30 fps)\n",
      "nan\n",
      "Rear Camera: 1080p (at 30fps), 720p (at 30fps)|Front Camera: 1080p (at 30fps), 720p (at 30fps)\n",
      "Front Camera: 1080p (at 30 fps), 720p (at 30 fps)|Rear Camera: 4K (at 30 fps), 1080p (at 60 fps/at 30 fps), 720p (at 60 fps/at 30 fps), Video Support: EIS+OIS: 1080p (at 60 fps/at 30 fps), 720p (at 60 fps/at 30 fps), Video Zoom: 1080p (at 60 fps/at 30 fps), 720p (at 60 fps/at 30 fps), Slow Video: 720p (at 120 fps/at 240 fps), 1080p (at 120 fps), Movie/Timelapse/Dual View Video: 1080p (at 30 fps)\n",
      "Front Camera: 1080p (at 30 fps), 720p (at 30 fps)|Rear Camera: 4K (at 30 fps), 1080p (at 60 fps/at 30 fps), 720p (at 60 fps/at 30 fps), Video Support: EIS+OIS: 1080p (at 60 fps/at 30 fps), 720p (at 60 fps/at 30 fps), Video Zoom: 1080p (at 60 fps/at 30 fps), 720p (at 60 fps/at 30 fps), Slow Video: 720p (at 120 fps/at 240 fps), 1080p (at 120 fps), Movie/Timelapse/Dual View Video: 1080p (at 30 fps)\n",
      "Rear Camera: 1080p (at 30 fps), 720p (at 30 fps) | Front Camera: 1080p (at 30 fps), 720p (at 30 fps)\n",
      "nan\n",
      "Rear Camera: Main Camera: 1080p (at 30 fps), 720p at 30 fps) | Front Camera: 1080p (at 30 fps), 720p (at 30 fps)\n",
      "nan\n",
      "nan\n",
      "nan\n",
      "nan\n",
      "nan\n",
      "nan\n",
      "nan\n",
      "Rear Camera: 1080p (at 30fps), 720p (at 30fps)|Front Camera: 1080p (at 30fps), 720p (at 30fps)\n",
      "Rear Camera: 1080p (at 30 fps), 720p (at 30 fps), 480p (at 30 fps), Slo-Mo: 720p (at 120 fps) | Front Camera: 720p (at 30 fps), 480p (at 30 fps), CIF (at 30 fps)\n",
      "Rear Camera: 1080p (at 30 fps), 720p (at 30 fps), 480p (at 30 fps), Slo-Mo: 720p (at 120 fps) | Front Camera: 720p (at 30 fps), 480p (at 30 fps), CIF (at 30 fps)\n",
      "Rear Camera: 1080p (at 30 fps), 720p (at 30 fps), 480p (at 30 fps), Slo-Mo: 720p (at 120 fps) | Front Camera: 720p (at 30 fps), 480p (at 30 fps), CIF (at 30 fps)\n",
      "Rear Camera: 1080p (at 30 fps), 720p (at 30 fps) | Front Camera: 1080p (at 30 fps), 720p (at 30 fps)\n",
      "Rear Camera: Main Camera [4K UHD (at 30 fps), FHD (at 60 fps/at 30 fps), 4K UHD HDR10+ (at 30 fps), FHD HDR10+ (at 30 fps W/EIS), Slow Motion: FHD (at 240 fps/at 120 fps)], Ultrawide/Macro Camera [4K UHD (at 30 fps), FHD (at 30 fps)], Rear Telephoto Camera [4K UHD (at 30 fps), FHD (at 60 fps/at 30 fps)]\n",
      "nan\n",
      "nan\n",
      "Rear Camera: 1080p (at 30 fps), 720p (at 30 fps)| Front Camera: 1080p (at 30 fps), 720p (at 30 fps)\n",
      "nan\n",
      "No\n",
      "Rear Camera: 1080p (at 30 fps), 720p (at 30 fps) | Front Camera: 1080p (at 30 fps), 720p (at 30 fps)\n",
      "nan\n",
      "nan\n",
      "Rear Camera: 1080p (at 30fps), 720p (at 30fps)|Front Camera: 1080p (at 30fps), 720p (at 30fps)\n",
      "Rear Camera: 1080p (at 30 fps), 720p (at 30 fps)| Front Camera: 1080p (at 30 fps), 720p (at 30 fps)\n",
      "nan\n",
      "nan\n",
      "Rear Camera: 1080p (at 30fps), 720p (at 30fps)|Front Camera: 1080p (at 30fps), 720p (at 30fps)\n",
      "NO\n",
      "Rear Camera: Main Camera [FHD (at 30 fps)], Macro Camera [HD (at 30 fps)]|Front Camera: FHD (at 30 fps)\n",
      "nan\n",
      "Rear Camera: 1080p (at 30 fps), 720p (at 30 fps), Slow Motion: 720p (at 120 fps), Movie/Timelapse: 1080p (at 30 fps), Dual View Video: 1080p (at 30 fps) | Front Camera: 1080p (at 30 fps), 720p (at 30 fps)\n",
      "nan\n",
      "nan\n",
      "nan\n",
      "Rear Camera: 4K (at 30 fps), 1080p (at 120 fps/at 60 fps/at 30 fps), 720p (at 240 fps/at 120 fps/at 60 fps/at 30 fps)|Front Camera: 1080p (at 30 fps), 720p (at 30 fps)\n",
      "Rear Camera: 1080p (at 30 fps), 720p (at 30 fps) | Front Camera: 1080p (at 30 fps), 720p (at 30 fps)\n",
      "Rear Camera: Main Camera [4K UHD (at 30 fps), FHD (at 60 fps/at 30 fps), 4K UHD HDR10+ (at 30 fps), FHD HDR10+ (at 30 fps W/EIS), Slow Motion: FHD (at 240 fps/at 120 fps)], Ultrawide/Macro Camera [4K UHD (at 30 fps), FHD (at 30 fps)], Rear Telephoto Camera [4K UHD (at 30 fps), FHD (at 60 fps/at 30 fps)]\n",
      "UHD 4K (at 30 fps)\n",
      "Rear Camera: 1080p (at 30 fps), 720p (at 30 fps) | Front Camera: 1080p (at 30 fps), 720p (at 30 fps)\n",
      "nan\n",
      "no\n",
      "nan\n",
      "No\n",
      "nan\n",
      "Rear Camera: 4K (at 30 fps), 1080p (at 120 fps/at 60 fps/at 30 fps), 720p (at 240 fps/at 120 fps/at 60 fps/at 30 fps)|Front Camera: 1080p (at 30 fps), 720p (at 30 fps)\n",
      "Rear Camera: Main Camera [UHD (at 30 fps), UHD 20:9 (at 30 fps), FHD (at 30 fps), FHD 20:9 (at 30 fps), FHD (at 60 fps), FHD 20:9 (at 60 fps)], Macro Camera [UHD (at 30 fps), UHD 20:9 (at 30 fps), FHD (at 30 fps), FHD 20:9 (at 30 fps)] | Front Camera: UHD (at 30 fps), UHD 20:9 (at 30 fps), FHD (at 30 fps), FHD 20:9 (at 30 fps)\n",
      "nan\n",
      "nan\n",
      "nan\n",
      "Rear Camera: 1080p (at 30 fps), 720p (at 30 fps), Slow Motion: 720p (at 120 fps), Movie/Timelapse: 1080p (at 30 fps), Dual View Video: 1080p (at 30 fps) | Front Camera: 1080p (at 30 fps), 720p (at 30 fps)\n",
      "nan\n",
      "nan\n",
      "nan\n",
      "Rear Camera: 4K (at 24 fps/ 25 fps/ 30 fps/ 60 fps), 1080P (at 120 fps/60 fps/30 fps/ 25 fps), 720P (at 30 fps) | Front Camera: 4K (at 24 fps/ 25 fps/ 30 fps/ 60 fps), 1080P (at 120 fps/60 fps/30 fps/ 25 fps)\n",
      "Rear Camera: Main Camera (FHD (at 30 fps)), Macro Camera (HD (at 30 fps))\n",
      "nan\n",
      "nan\n",
      "nan\n",
      "Rear Camera: Main Camera (4K (at 30 fps), 1080p (at 30 fps), 1080p (at 60 fps), 1080p (at 120 fps)), Ultra Wide Camera (4K (at 30 fps), 1080p (at 30 fps), 1080p (at 60 fps)) | Front Camera: 1080p (at 30 fps), 1080p (at 60 fps)\n",
      "nan\n",
      "nan\n",
      "Rear Camera: 4K (at 24 fps/ 25 fps/ 30 fps/ 60 fps), 1080P (at 120 fps/60 fps/30 fps/ 25 fps), 720P (at 30 fps) | Front Camera: 4K (at 24 fps/ 25 fps/ 30 fps/ 60 fps), 1080P (at 120 fps/60 fps/30 fps/ 25 fps)\n",
      "nan\n",
      "Rear Camera: 1080p (at 30 fps), 720p (at 30 fps)| Front Camera: 1080p (at 30 fps), 720p (at 30 fps)\n",
      "nan\n",
      "nan\n",
      "Rear Camera: 1080p (at 30 fps), 720p (at 30 fps) | Front Camera: 1080p (at 30 fps), 720p (at 30 fps)\n",
      "Rear Camera: 1080p (at 30 fps), 720p (at 30 fps) | Front Camera: 1080p (at 30 fps), 720p (at 30 fps)\n",
      "nan\n",
      "nan\n",
      "Rear Camera: 1080p (at 30 fps), 720p (at 30 fps)| Front Camera: 1080p (at 30 fps), 720p (at 30 fps)\n",
      "Rear Camera: 1080p (at 30 fps), 720p (at 30 fps)| Front Camera: 1080p (at 30 fps), 720p (at 30 fps)\n",
      "nan\n",
      "Rear Camera: Main Camera (4K (at 30 fps), 1080p (at 30 fps), 1080p (at 60 fps), 1080p (at 120 fps)), Ultra Wide Camera (4K (at 30 fps), 1080p (at 30 fps), 1080p (at 60 fps)) | Front Camera: 1080p (at 30 fps), 1080p (at 60 fps)\n",
      "Rear Camera: 4K (at 24 fps/ 25 fps/ 30 fps/ 60 fps), 1080P (at 120 fps/60 fps/30 fps/ 25 fps), 720P (at 30 fps) | Front Camera: 4K (at 24 fps/ 25 fps/ 30 fps/ 60 fps), 1080P (at 120 fps/60 fps/30 fps/ 25 fps)\n",
      "Rear Camera: Main Camera (4K (at 30 fps), 1080p (at 30 fps), 1080p (at 60 fps), 1080p (at 120 fps)), Ultra Wide Camera (4K (at 30 fps), 1080p (at 30 fps), 1080p (at 60 fps)) | Front Camera: 1080p (at 30 fps), 1080p (at 60 fps)\n",
      "Rear Camera: Main Camera (4K (at 30 fps), 1080p (at 30 fps), 1080p (at 60 fps), 1080p (at 120 fps)), Ultra Wide Camera (4K (at 30 fps), 1080p (at 30 fps), 1080p (at 60 fps)) | Front Camera: 1080p (at 30 fps), 1080p (at 60 fps)\n",
      "Rear Camera: 4K (at 24 fps/ 25 fps/ 30 fps/ 60 fps), 1080P (at 120 fps/60 fps/30 fps/ 25 fps), 720P (at 30 fps) | Front Camera: 4K (at 24 fps/ 25 fps/ 30 fps/ 60 fps), 1080P (at 120 fps/60 fps/30 fps/ 25 fps)\n",
      "nan\n",
      "720p\n",
      "FHD (1920 x 1080)\n",
      "FHD (1920 x 1080)\n",
      "Rear Camera: Main Camera (4K (at 30 fps), 1080p (at 30 fps), 1080p (at 60 fps), 1080p (at 120 fps)), Ultra Wide Camera (4K (at 30 fps), 1080p (at 30 fps), 1080p (at 60 fps)) | Front Camera: 1080p (at 30 fps), 1080p (at 60 fps)\n",
      "nan\n",
      "nan\n",
      "Rear Camera: Main Camera (4K (at 30 fps), 1080p (at 30 fps), 1080p (at 60 fps), 1080p (at 120 fps)), Ultra Wide Camera (4K (at 30 fps), 1080p (at 30 fps), 1080p (at 60 fps)) | Front Camera: 1080p (at 30 fps), 1080p (at 60 fps)\n",
      "nan\n",
      "nan\n",
      "Rear Camera: Primary Camera (720p (at 30 fps/at 60 fps), 1080p (at 30 fps/at 60 fps), 4K (at 30 fps)), Wide Camera (1080p (at 30 fps), 720p (at 30 fps), Slo-Mo Video: 720p (at 240 fps), 720p (At 960 fps), 1080p (at 120 fps), 1080p (at 480 fps))| Front Camera: 720p (at 30 fps), 1080p (at 30 fps)\n",
      "Rear Camera: Main Camera [4K UHD (at 30 fps), FHD (at 60 fps/at 30 fps), 4K UHD HDR10+ (at 30 fps), FHD HDR10+ (at 30 fps W/EIS), Slow Motion: FHD (at 240 fps/at 120 fps)], Ultrawide/Macro Camera [4K UHD (at 30 fps), FHD (at 30 fps)], Rear Telephoto Camera [4K UHD (at 30 fps), FHD (at 60 fps/at 30 fps)]\n",
      "Rear Camera: 4K (at 30 fps/ at 24 fps),1080p (at 60 fps/ at 30 fps), 720p (at 30 fps) | Front Camera: 1080p (at 60 fps/at 30 fps), 720p (at 30 fps)\n",
      "nan\n",
      "nan\n",
      "nan\n",
      "nan\n",
      "nan\n",
      "Rear Camera: 4K (at 30 fps), 1080p (at 60 fps/at 30 fps), 720p (at 30 fps) | Front Camera: 1080p (at 60 fps), 720p (at 30 fps)\n",
      "Rear Camera: Main Camera: 1080p (at 30 fps), 720p at 30 fps) | Front Camera: 1080p (at 30 fps), 720p (at 30 fps)\n",
      "nan\n",
      "nan\n",
      "Rear Camera: 4K (at 24 fps/ 25 fps/ 30 fps/ 60 fps), 1080P (at 120 fps/60 fps/30 fps/ 25 fps), 720P (at 30 fps) | Front Camera: 4K (at 24 fps/ 25 fps/ 30 fps/ 60 fps), 1080P (at 120 fps/60 fps/30 fps/ 25 fps)\n",
      "Rear Camera: 4K (at 30 fps), 1080p (at 60 fps/at 30 fps), 720p (at 30 fps) | Front Camera: 1080p (at 60 fps), 720p (at 30 fps)\n",
      "nan\n",
      "nan\n",
      "nan\n",
      "nan\n",
      "nan\n",
      "FHD (1920 x 1080) (at 30 fps)\n",
      "nan\n",
      "nan\n",
      "Rear Camera: Primary Camera (720p (at 30 fps/at 60 fps), 1080p (at 30 fps/at 60 fps), 4K (at 30 fps)), Wide Camera (1080p (at 30 fps), 720p (at 30 fps), Slo-Mo Video: 720p (at 240 fps), 720p (At 960 fps), 1080p (at 120 fps), 1080p (at 480 fps))| Front Camera: 720p (at 30 fps), 1080p (at 30 fps)\n",
      "nan\n",
      "nan\n",
      "Rear Camera: 4K (at 30 fps/ at 24 fps),1080p (at 60 fps/ at 30 fps), 720p (at 30 fps) | Front Camera: 1080p (at 60 fps/at 30 fps), 720p (at 30 fps)\n",
      "Rear Camera: 4K (at 24 fps/ 25 fps/ 30 fps/ 60 fps), 1080P (at 120 fps/60 fps/30 fps/ 25 fps), 720P (at 30 fps) | Front Camera: 4K (at 24 fps/ 25 fps/ 30 fps/ 60 fps), 1080P (at 120 fps/60 fps/30 fps/ 25 fps)\n",
      "3840 x 2160 (at 60 fps)\n",
      "Rear Main Camera Video: 1080p (at 30 fps), 720p (at 30 fps) | Front Camera: 1080p (at 30 fps), 720p (at 30 fps)\n",
      "NO\n",
      "nan\n",
      "Rear Camera: 4K (at 30 fps), 1080p (at 60 fps), 1080p (at 30 fps), 720p (at 30 fps) | Front Camera: 1080p (at 60 fps), 720p (at 30 fps)\n",
      "nan\n",
      "Rear Camera: Primary Camera (720p (at 30 fps/at 60 fps), 1080p (at 30 fps/at 60 fps), 4K (at 30 fps)), Wide Camera (1080p (at 30 fps), 720p (at 30 fps), Slo-Mo Video: 720p (at 240 fps), 720p (At 960 fps), 1080p (at 120 fps), 1080p (at 480 fps))| Front Camera: 720p (at 30 fps), 1080p (at 30 fps)\n",
      "nan\n",
      "nan\n",
      "Rear Camera: 4K (at 60 fps), Front Camera: 2K (at 30 fps)\n",
      "Rear Camera: 1080p (at 30 fps), 720p (at 30 fps)| Front Camera: 1080p (at 30 fps), 720p (at 30 fps)\n",
      "1920*1080@30fp\n",
      "nan\n",
      "nan\n",
      "720p\n",
      "Rear Camera: FHD (at 30 fps), HD (at 30 fps) | Front Camera: FHD (at 30 fps), HD (at 30 fps)\n",
      "nan\n",
      "nan\n",
      "nan\n",
      "nan\n",
      "Yes, 1080p Video Recording\n",
      "Rear Camera: 4K (at 60 fps), Front Camera: 2K (at 30 fps)\n",
      "Rear Camera: FHD (at 30 fps), HD (at 30 fps) | Front Camera: FHD (at 30 fps), HD (at 30 fps)\n",
      "nan\n",
      "Rear Camera: 4K (at 60 fps), Front Camera: 2K (at 30 fps)\n",
      "nan\n",
      "Rear Camera: Main Camera [UHD (at 30 fps), UHD 20:9 (at 30 fps), FHD (at 30 fps), FHD 20:9 (at 30 fps), FHD (at 60 fps), FHD 20:9 (at 60 fps)], Macro Camera [UHD (at 30 fps), UHD 20:9 (at 30 fps), FHD (at 30 fps), FHD 20:9 (at 30 fps)] | Front Camera: UHD (at 30 fps), UHD 20:9 (at 30 fps), FHD (at 30 fps), FHD 20:9 (at 30 fps)\n",
      "nan\n",
      "Rear Camera: 1080p (at 30 fps), 720p (at 30 fps) | Front Camera: 1080p (at 30 fps), 720p (at 30 fps)\n",
      "Rear Main Camera Video: 1080p (at 30 fps), 720p (at 30 fps) | Front Camera: 1080p (at 30 fps), 720p (at 30 fps)\n",
      "nan\n",
      "FHD (1920 x 1080) (at 30 fps)\n",
      "Rear Camera: 1080p (at 30 fps), 720p (at 30 fps)| Front Camera: 1080p (at 30 fps), 720p (at 30 fps)\n",
      "nan\n",
      "nan\n",
      "nan\n",
      "nan\n",
      "Rear Camera: 4K (at 60 fps), Front Camera: 2K (at 30 fps)\n",
      "Rear Camera: 4K (at 30 fps), 1080p (at 60 fps), 1080p (at 30 fps), 720p (at 30 fps) | Front Camera: 1080p (at 60 fps), 720p (at 30 fps)\n",
      "nan\n",
      "nan\n",
      "0\n",
      "nan\n",
      "Rear Camera: FHD (at 30 fps), HD (at 30 fps) | Front Camera: FHD (at 30 fps), HD (at 30 fps)\n",
      "nan\n",
      "nan\n",
      "Rear Camera: Main Camera [FHD (at 30 fps)], Macro Camera [HD (at 30 fps)]|Front Camera: FHD (at 30 fps)\n",
      "Rear Camera: 4K (at 30 fps/ at 24 fps),1080p (at 60 fps/ at 30 fps), 720p (at 30 fps) | Front Camera: 1080p (at 60 fps/at 30 fps), 720p (at 30 fps)\n",
      "nan\n",
      "720 x 1820 pixel\n",
      "nan\n",
      "FHD (1920 x 1080)\n",
      "nan\n",
      "Rear Camera: 4K (at 30 fps), 1080p (at 60 fps/at 30 fps), 720p (at 30 fps) | Front Camera: 1080p (at 60 fps), 720p (at 30 fps)\n",
      "FHD (1920 x 1080) (at 30 fps)\n",
      "nan\n",
      "nan\n",
      "nan\n",
      "FHD (1920 x 1080)\n",
      "nan\n",
      "nan\n",
      "nan\n",
      "nan\n",
      "UHD 4K (3840 x 2160) (at 30 fps)\n",
      "nan\n",
      "nan\n",
      "nan\n",
      "176 x 144\n",
      "0\n",
      "nan\n",
      "Rear Camera: 4K (at 30 fps), 1080p (at 60 fps/at 30 fps), 720p (at 30 fps) | Front Camera: 1080p (at 60 fps), 720p (at 30 fps)\n",
      "nan\n",
      "Rear Camera: Main Camera [UHD (at 30 fps), UHD 20:9 (at 30 fps), FHD (at 30 fps), FHD 20:9 (at 30 fps), FHD (at 60 fps), FHD 20:9 (at 60 fps)], Macro Camera [UHD (at 30 fps), UHD 20:9 (at 30 fps), FHD (at 30 fps), FHD 20:9 (at 30 fps)] | Front Camera: UHD (at 30 fps), UHD 20:9 (at 30 fps), FHD (at 30 fps), FHD 20:9 (at 30 fps)\n",
      "nan\n",
      "nan\n",
      "128x160 pixels\n",
      "nan\n",
      "nan\n",
      "nan\n",
      "nan\n",
      "nan\n",
      "nan\n",
      "nan\n",
      "nan\n",
      "1080p@30fps\n",
      "Rear Camera: Main Camera (4K (at 30 fps), 1080p (at 30 fps), 1080p (at 60 fps), 1080p (at 120 fps)), Ultra Wide Camera (4K (at 30 fps), 1080p (at 30 fps), 1080p (at 60 fps)) | Front Camera: 1080p (at 30 fps), 1080p (at 60 fps)\n",
      "Rear Camera: 1080p (at 30 fps), 720p (at 30 fps), Slow Motion: 720p (at 120 fps), Movie/Time Lapse: 1080p (at 30 fps), Dual View Video: 720p (at 30 fps) | Front Camera: 1080p ( at 30 fps), 720p (at 30 fps)\n",
      "nan\n",
      "nan\n",
      "Rear Camera: 1080p (at 30 fps), 720p (at 30 fps) | Front Camera: 1080p (at 30 fps), 720p (at 30 fps)\n",
      "3840 x 2160 (at 60 fps)\n",
      "nan\n",
      "nan\n",
      "nan\n",
      "nan\n",
      "Rear Camera: 1080p (at 30 fps), 720p (at 30 fps) | Front Camera: 1080p (at 30 fps), 720p (at 30 fps)\n",
      "FHD (1920 x 1080)\n",
      "nan\n",
      "Rear Camera: 1080p (at 30 fps), 720p (at 30 fps) | Front Camera: 1080p (at 30 fps), 720p (at 30 fps)\n",
      "Rear Camera: 4K (at 30 fps), 1080p (at 120 fps/at 60 fps/at 30 fps), 720p (at 240 fps/at 120 fps/at 60 fps/at 30 fps)|Front Camera: 1080p (at 30 fps), 720p (at 30 fps)\n",
      "Rear Camera: 1080p (at 30fps), 720p (at 30fps)|Front Camera: 1080p (at 30fps), 720p (at 30fps)\n",
      "nan\n",
      "Rear Camera: 4K (at 30 fps), 1080p (at 120 fps/at 60 fps/at 30 fps), 720p (at 240 fps/at 120 fps/at 60 fps/at 30 fps)|Front Camera: 1080p (at 30 fps), 720p (at 30 fps)\n",
      "Rear Camera: 4K (at 30 fps), 1080p (at 120 fps/at 60 fps/at 30 fps), 720p (at 240 fps/at 120 fps/at 60 fps/at 30 fps)|Front Camera: 1080p (at 30 fps), 720p (at 30 fps)\n",
      "UHD 8K (7680 x 4320) (at 24 fps)\n",
      "Rear Camera: 4K (at 30 fps), 1080p (at 120 fps/at 60 fps/at 30 fps), 720p (at 240 fps/at 120 fps/at 60 fps/at 30 fps)|Front Camera: 1080p (at 30 fps), 720p (at 30 fps)\n",
      "Rear Camera: 4K (at 30 fps), 1080p (at 120 fps/at 60 fps/at 30 fps), 720p (at 240 fps/at 120 fps/at 60 fps/at 30 fps)|Front Camera: 1080p (at 30 fps), 720p (at 30 fps)\n",
      "nan\n",
      "nan\n",
      "Rear Main Camera Video: 4K (at 60 fps), 4K (at 30 fps), 1080p (at 60 fps), 1080p (at 30 fps), 720p (at 30 fps)|Front Camera: 1080p (at 60 fps), 1080p (at 30 fps), 720p (at 30 fps)\n",
      "4K, 1080p, 720p\n",
      "nan\n",
      "nan\n",
      "nan\n",
      "nan\n",
      "nan\n",
      "7680 x 4320 pixel\n",
      "nan\n",
      "UHD 8K (7680 x 4320) (at 24 fps)\n",
      "nan\n",
      "nan\n",
      "Rear Camera: 1080p (at 30 fps), 720p (at 30 fps), Slow Motion: 720p (at 120 fps), Movie/Time Lapse: 1080p (at 30 fps), Dual View Video: 720p (at 30 fps) | Front Camera: 1080p ( at 30 fps), 720p (at 30 fps)\n",
      "7680 x 4320 pixel\n",
      "nan\n",
      "No\n",
      "nan\n",
      "nan\n",
      "nan\n",
      "nan\n",
      "nan\n",
      "Rear Camera: 4K (at 24 fps), 4K (at 30 fps), 1080p (at 60 fps), 1080p (at 30 fps), 720p (at 30 fps) | Front Camera: 1080p (at 60 fps), 720p (at 30 fps)\n",
      "QQVGA (128 * 160)\n",
      "nan\n",
      "nan\n",
      "Rear Camera: 4K (at 24 fps/at 30 fps/at 60 fps), 1080p (at 24 fps/at 30 fps/at 60 fps)| Front Camera: 4K (at 24 fps/at 30 fps/at 60 fps)\n",
      "nan\n",
      "nan\n",
      "Rear Camera: 1080p (at 30 fps), 720p (at 30 fps) | Front Camera: 1080p (at 30 fps), 720p (at 30 fps)\n",
      "Rear Camera: 4K (at 30 fps), 1080p (at 60 fps), 720p (at 30 fps) | Front Camera: 1080p (at 60 fps), 720p (at 30 fps)\n",
      "nan\n",
      "Rear Camera: 2K (at 30 fps), 1080P (at 60 fps/at 30 fps), 720P (at 30 fps)\n",
      "nan\n",
      "nan\n",
      "nan\n",
      "nan\n",
      "nan\n",
      "nan\n",
      "nan\n",
      "nan\n",
      "Rear Camera: 4K (at 24 fps), 4K (at 30 fps), 1080p (at 60 fps), 1080p (at 30 fps), 720p (at 30 fps) | Front Camera: 1080p (at 60 fps), 720p (at 30 fps)\n",
      "nan\n",
      "nan\n",
      "0\n",
      "4K, 1080P, HDR Video Recording with Dolby Vision Upto 30 fps\n",
      "nan\n",
      "nan\n",
      "Rear Camera: 4K (at 24 fps/ 25 fps/ 30 fps/ 60 fps), 1080P (at 120 fps/60 fps/30 fps/ 25 fps), 720P (at 30 fps) | Front Camera: 4K (at 24 fps/ 25 fps/ 30 fps/ 60 fps), 1080P (at 120 fps/60 fps/30 fps/ 25 fps)\n",
      "7680 x 4320 pixel\n",
      "nan\n",
      "nan\n",
      "nan\n",
      "nan\n",
      "nan\n",
      "Rear Camera: FHD (at 30 fps), HD (at 30 fps) | Front Camera: FHD (at 30 fps), HD (at 30 fps)\n",
      "nan\n",
      "nan\n",
      "nan\n",
      "nan\n",
      "nan\n",
      "nan\n",
      "nan\n",
      "nan\n",
      "nan\n",
      "Rear Camera: 4K (at 24 fps), 4K (at 30 fps), 1080p (at 60 fps), 1080p (at 30 fps), 720p (at 30 fps) | Front Camera: 1080p (at 60 fps), 720p (at 30 fps)\n",
      "Rear Main Camera Video: 4K (at 60 fps), 4K (at 30 fps), 1080p (at 60 fps), 1080p (at 30 fps), 720p (at 30 fps)|Front Camera: 1080p (at 60 fps), 1080p (at 30 fps), 720p (at 30 fps)\n",
      "nan\n",
      "nan\n",
      "Rear Camera: 1080p (at 30 fps), 720p (at 30 fps)| Front Camera: 1080p (at 30 fps), 720p (at 30 fps)\n",
      "nan\n",
      "nan\n",
      "Digital\n",
      "nan\n",
      "nan\n",
      "Rear Camera: 1080p (at 30 fps), 720p (at 30 fps) | Front Camera: 1080p (at 30 fps), 720p (at 30 fps)\n",
      "nan\n",
      "nan\n",
      "nan\n",
      "Rear Camera: 1080p (at 30 fps), 720p (at 30 fps)| Front Camera: 1080p (at 30 fps), 720p (at 30 fps)\n",
      "nan\n",
      "UHD 8K (7680 x 4320) (at 24 fps)\n",
      "Rear Camera: 4K (at 30 fps), 1080p (at 60 fps/at 30 fps), 720p (at 30 fps) | Front Camera: 1080p (at 60 fps), 720p (at 30 fps)\n",
      "nan\n",
      "No\n",
      "MP4\n",
      "Rear Main Camera Video: 4K (at 60 fps), 4K (at 30 fps), 1080p (at 60 fps), 1080p (at 30 fps), 720p (at 30 fps)|Front Camera: 1080p (at 60 fps), 1080p (at 30 fps), 720p (at 30 fps)\n",
      "Rear Camera: Main Camera (FHD (at 30 fps)), Macro Camera (HD (at 30 fps))\n",
      "nan\n",
      "nan\n",
      "nan\n",
      "Rear: 4K (at 60fps), Live HDR (4K (at 30 fps)), 1080p (at 30 fps/60 fps), Slow-Mo (480 fps)| Front: 1080p (60 fps), Live HDR (1080p (at 30 fps))\n",
      "nan\n",
      "nan\n",
      "Rear Camera: Main Camera (4K UHD (at 30 fps), FHD (at 60 fps/at 30 fps), Slow Motion: FHD (at 240 fps/at 120 fps), Portrait Video: HD (at 30 fps)) Ultra Wide/Macro Camera (4K UHD (at 30 fps), FHD (at 30 fps)) | Front Camera: FHD (at 30 fps), FHD (at 60 fps), Portrait Video: HD (at 30 fps)\n",
      "Rear Camera: 1080p (at 30 fps), 720p (at 30 fps) | Front Camera: 1080p (at 30 fps), 720p (at 30 fps)\n",
      "Rear Camera: 1080p (at 30 fps), 720p (at 30 fps) | Front Camera: 1080p (at 30 fps), 720p (at 30 fps)\n",
      "nan\n",
      "nan\n",
      "Rear Camera: 1080p (at 30 fps), 720p (at 30 fps)|Front Camera: 1080p (at 30 fps), 720p (at 30 fps)\n",
      "Rear Camera: 4K (at 30 fps), 1080p (at 60 fps), 1080p (at 30 fps), 720p (at 30 fps) | Front Camera: 1080p (at 60 fps), 720p (at 30 fps)\n",
      "Rear Camera: 1080p (at 30 fps), 720p (at 30 fps) |Front Camera: 1080p (at 30 fps), 720p (at 30 fps)\n",
      "nan\n",
      "Rear Camera: 1080p (at 30 fps), 720p (at 30 fps) | Front Camera: 1080p (at 30 fps), 720p (at 30 fps)\n",
      "Rear: 4K (at 30 fps), 1080p (at 480 fps/at 120 fps/at 60 fps/at 30 fps), 720p (at 960 fps/at 240 fps/ 60 fps/at 30 fps), Video Stabilization: EIS/OIS | Front: 4K (at 30 fps), 1080p (at 30 fps), 720p (at 30 fps), Video Stabilization, Video Zoom, Timelapse (1080p (at 30 fps)), Interval Settings: 10X, 60X, 120X, 480X, and 960X\n",
      "Rear: 4K (at 30 fps), 1080p (at 480 fps/at 120 fps/at 60 fps/at 30 fps), 720p (at 960 fps/at 240 fps/ 60 fps/at 30 fps), Video Stabilization: EIS/OIS | Front: 4K (at 30 fps), 1080p (at 30 fps), 720p (at 30 fps), Video Stabilization, Video Zoom, Timelapse (1080p (at 30 fps)), Interval Settings: 10X, 60X, 120X, 480X, and 960X\n",
      "nan\n",
      "nan\n",
      "nan\n",
      "nan\n",
      "nan\n",
      "7680 x 4320 pixel\n",
      "Rear: 4K (at 30 fps), 1080p (at 480 fps/at 120 fps/at 60 fps/at 30 fps), 720p (at 960 fps/at 240 fps/ 60 fps/at 30 fps), Video Stabilization: EIS/OIS | Front: 4K (at 30 fps), 1080p (at 30 fps), 720p (at 30 fps), Video Stabilization, Video Zoom, Timelapse (1080p (at 30 fps)), Interval Settings: 10X, 60X, 120X, 480X, and 960X\n",
      "Rear Camera: 4K (at 24 fps/ 25 fps/ 30 fps/ 60 fps), 1080P (at 120 fps/60 fps/30 fps/ 25 fps), 720P (at 30 fps) | Front Camera: 4K (at 24 fps/ 25 fps/ 30 fps/ 60 fps), 1080P (at 120 fps/60 fps/30 fps/ 25 fps)\n",
      "nan\n",
      "Rear Camera: 1080p (at 30 fps), 720p (at 30 fps)|Front Camera: 1080p (at 30 fps), 720p (at 30 fps)\n",
      "Rear Camera: 1080p (at 30 fps), 720p (at 30 fps) | Front Camera: 1080p (at 30 fps), 720p (at 30 fps)\n",
      "Rear Camera: 1080p (at 30 fps), 720p (at 30 fps), 480p (at 30 fps) | Front Camera: 720p (at 30 fps), 480p (at 30 fps), CIF (at 30 fps)\n",
      "nan\n",
      "Rear Camera: 1080p (at 30 fps), 720p (at 30 fps) | Front Camera: 1080p (at 30 fps), 720p (at 30 fps)\n",
      "nan\n",
      "nan\n",
      "nan\n",
      "Full HD (1920 x 1080) (at 30 fps)\n",
      "nan\n",
      "Rear Camera: 1080p (at 30 fps), 720p (at 30 fps)| Front Camera: 1080p (at 30 fps), 720p (at 30 fps)\n",
      "nan\n",
      "Rear Camera: 4K (at 24 fps), 4K (at 30 fps), 1080p (at 60 fps), 1080p (at 30 fps), 720p (at 30 fps) | Front Camera: 1080p (at 60 fps), 720p (at 30 fps)\n",
      "Rear Main Camera Video: 4K (at 60 fps), 4K (at 30 fps), 1080p (at 60 fps), 1080p (at 30 fps), 720p (at 30 fps)|Front Camera: 1080p (at 60 fps), 1080p (at 30 fps), 720p (at 30 fps)\n",
      "nan\n",
      "nan\n",
      "nan\n",
      "Full HD (1920 x 1080) (at 30 fps)\n",
      "Rear Camera: 1080p (at 30 fps), 720p (at 30 fps) | Front Camera: 1080p (at 30 fps), 720p (at 30 fps)\n",
      "Rear Camera: 4K (at 60 fps) | Front Camera: 4K (at 60 fps)\n",
      "Rear Camera: 4K (at 24 fps/ 25 fps/ 30 fps/ 60 fps), 1080P (at 120 fps/60 fps/30 fps/ 25 fps), 720P (at 30 fps) | Front Camera: 4K (at 24 fps/ 25 fps/ 30 fps/ 60 fps), 1080P (at 120 fps/60 fps/30 fps/ 25 fps)\n",
      "Rear Camera: 4K (at 24 fps), 4K (at 30 fps), 1080p (at 60 fps), 1080p (at 30 fps), 720p (at 30 fps) | Front Camera: 1080p (at 60 fps), 720p (at 30 fps)\n",
      "nan\n",
      "1080p (at 30 fps)\n",
      "Rear: 4K (at 60fps), Live HDR (4K (at 30 fps)), 1080p (at 30 fps/60 fps), Slow-Mo (480 fps)| Front: 1080p (60 fps), Live HDR (1080p (at 30 fps))\n",
      "nan\n",
      "nan\n",
      "Rear Camera: 1080P (at 30 fps), Front Camera: 1080P (at 30 fps)\n",
      "nan\n",
      "Rear Camera: 4K (at 24 fps/ 25 fps/ 30 fps/ 60 fps), 1080P (at 120 fps/60 fps/30 fps/ 25 fps), 720P (at 30 fps) | Front Camera: 4K (at 24 fps/ 25 fps/ 30 fps/ 60 fps), 1080P (at 120 fps/60 fps/30 fps/ 25 fps)\n",
      "nan\n",
      "nan\n",
      "nan\n",
      "nan\n",
      "nan\n",
      "nan\n",
      "nan\n",
      "nan\n",
      "nan\n",
      "nan\n",
      "nan\n",
      "nan\n",
      "nan\n",
      "nan\n",
      "nan\n",
      "nan\n",
      "HD+\n",
      "Rear Camera: 1080p (at 30 fps), 720p (at 30 fps) | Front Camera: 1080p (at 30 fps), 720p (at 30 fps)\n",
      "UHD 8K (7680 x 4320) (at 30 fps), FHD (at 240 fps), UHD (at 120 fps), UHD 8K (7680 x 4320) (at 60 fps)\n",
      "Rear Camera: 1080p (at 30 fps), 720p (at 30 fps) | Front Camera: 1080p (at 30 fps), 720p (at 30 fps)\n",
      "nan\n",
      "nan\n",
      "Rear Camera: 1080p (at 30 fps), 720p (at 30 fps)|Front Camera: 1080p (at 30 fps), 720p (at 30 fps)\n",
      "nan\n",
      "Full HD (1920 x 1080) (at 30 fps)\n",
      "nan\n",
      "4K Video Recording (at 24 fps, 25 fps, 30 fps or 60 fps), 1080p HD Video Recording (at 25 fps, 30 fps or 60 fps), 720p HD Video Recording (at 30 fps), Slow‑motion Video Support: Rear Camera (1080p at 120 fps or 240 fps), Front Camera (1080p at 120 fps)\n",
      "nan\n",
      "nan\n",
      "nan\n",
      "Rear Camera: 1080p (at 30 fps), 720p (at 30 fps) | Front Camera: 1080p (at 30 fps), 720p (at 30 fps)\n",
      "nan\n",
      "nan\n",
      "Rear Camera: 1080p (at 30 fps), 720p (at 30 fps)|Front Camera: 1080p (at 30 fps), 720p (at 30 fps)\n",
      "nan\n",
      "nan\n",
      "Rear Camera: 4K (at 60 fps) | Front Camera: 1080p (at 30 fps)\n",
      "MP4\n",
      "nan\n",
      "128x160\n",
      "nan\n",
      "Rear Camera: 1080p (at 30 fps), 720p (at 30 fps)| Front Camera: 1080p (at 30 fps), 720p (at 30 fps)\n",
      "Rear Camera: 1080p (at 30 fps), 720p (at 30 fps) | Front Camera: 1080p (at 30 fps)\n",
      "1080p@30fpS\n",
      "nan\n",
      "Rear Camera: 4K (at 24 fps), 4K (at 30 fps), 1080p (at 60 fps), 1080p (at 30 fps), 720p (at 30 fps) | Front Camera: 1080p (at 60 fps), 720p (at 30 fps)\n",
      "yes\n",
      "nan\n",
      "Rear Camera: 1080p (at 30 fps), 720p (at 30 fps) | Front Camera: 1080p (at 30 fps), 720p (at 30 fps)\n",
      "nan\n",
      "nan\n",
      "nan\n",
      "nan\n",
      "nan\n",
      "nan\n",
      "nan\n",
      "nan\n",
      "nan\n",
      "nan\n",
      "nan\n",
      "nan\n",
      "Rear Camera: 1080p (at 30 fps), 720p (at 120 fps/ 30 fps), 480p (at 30 fps) | Front Camera: 720p (at 30 fps), 480p (at 30 fps), CIF (at 30fps)\n",
      "UHD 4K (at 30 fps)\n",
      "Rear Camera: 4K (at 30 fps), 1080p (at 120 fps/at 60 fps/at 30 fps), 720p (at 240 fps/at 120 fps/at 60 fps/at 30 fps)|Front Camera: 1080p (at 30 fps), 720p (at 30 fps)\n",
      "Rear Camera: 4K (at 30 fps), 1080p (at 60 fps/at 30 fps), 720p (at 30 fps) | Front Camera: 1080p (at 60 fps), 720p (at 30 fps)\n",
      "Rear Camera: 4K (at 30 fps), 1080p (at 120 fps/at 60 fps/at 30 fps), 720p (at 240 fps/at 120 fps/at 60 fps/at 30 fps)|Front Camera: 1080p (at 30 fps), 720p (at 30 fps)\n",
      "Rear Camera: 1080p (at 30 fps), 720p (at 120 fps/ 30 fps), 480p (at 30 fps) | Front Camera: 720p (at 30 fps), 480p (at 30 fps), CIF (at 30fps)\n",
      "Rear Camera: 4K (at 30 fps), 1080p (at 120 fps/at 60 fps/at 30 fps), 720p (at 240 fps/at 120 fps/at 60 fps/at 30 fps)|Front Camera: 1080p (at 30 fps), 720p (at 30 fps)\n",
      "Rear Camera: 1080p (at 30 fps), 720p (at 30 fps) | Front Camera: 1080p (at 30 fps), 720p (at 30 fps)\n",
      "Rear Camera: Main Camera (FHD (at 30 fps), HD (at 30 fps)), Macro Camera (HD (at 30 fps)) | Front Camera: FHD (at 30 fps), HD (at 30 fps)\n",
      "Rear Camera: 1080p (at 30 fps), 720p (at 30 fps)| Front Camera: 1080p (at 30 fps), 720p (at 30 fps)\n",
      "Rear Camera: 1080p (at 30 fps), 720p (at 30 fps) | Front Camera: 1080p (at 30 fps)\n",
      "nan\n",
      "nan\n",
      "nan\n",
      "7680 x 4320 pixel\n",
      "nan\n",
      "nan\n",
      "Rear Camera: 1080p (at 30 fps), 720p (at 30 fps)| Front Camera: 1080p (at 30 fps), 720p (at 30 fps)\n",
      "nan\n",
      "Rear Camera: 1080p (at 30 fps), 720p (at 30 fps) | Front Camera: 1080p (at 30 fps), 720p (at 30 fps)\n",
      "nan\n",
      "7680 x 4320 pixel\n",
      "nan\n",
      "MP4\n",
      "nan\n",
      "UHD 4K (3840 x 2160) (at 30 fps)\n",
      "nan\n",
      "nan\n",
      "nan\n",
      "nan\n",
      "nan\n",
      "nan\n",
      "nan\n",
      "nan\n",
      "nan\n",
      "UHD 4K (3840 x 2160) (at 30 fps)\n",
      "nan\n",
      "nan\n",
      "nan\n",
      "nan\n",
      "nan\n",
      "Rear Camera: 1080p (at 30 fps), 720p (at 30 fps)|Front Camera: 1080p (at 30 fps), 720p (at 30 fps)\n",
      "nan\n",
      "nan\n",
      "Rear Camera: 1080p (at 30 fps) | Front Camera: 1080p (at 30 fps)\n",
      "nan\n",
      "nan\n",
      "Rear Camera: Main Camera [UHD (at 30 fps), UHD 20:9 (at 30 fps), FHD (at 30 fps), FHD 20:9 (at 30 fps), FHD (at 60 fps), FHD 20:9 (at 60 fps)], Macro Camera [UHD (at 30 fps), UHD 20:9 (at 30 fps), FHD (at 30 fps), FHD 20:9 (at 30 fps)] | Front Camera: UHD (at 30 fps), UHD 20:9 (at 30 fps), FHD (at 30 fps), FHD 20:9 (at 30 fps)\n",
      "nan\n",
      "nan\n",
      "nan\n"
     ]
    }
   ],
   "source": [
    "for i in (df['Video Recording Resolution']):\n",
    "    print(i)"
   ]
  },
  {
   "cell_type": "code",
   "execution_count": 511,
   "metadata": {},
   "outputs": [],
   "source": [
    "def video(x):\n",
    "    try:\n",
    "        if \"4K\" in x:\n",
    "            return \"UHD\"\n",
    "        elif \"1080p\" in x:\n",
    "            return \"FHD\"\n",
    "        elif \"720p\" in x:\n",
    "            return \"HD\"\n",
    "        return \"SD\"\n",
    "    except:\n",
    "        return x"
   ]
  },
  {
   "cell_type": "code",
   "execution_count": 512,
   "metadata": {},
   "outputs": [],
   "source": [
    "df['video'] = df['Video Recording Resolution'].apply(video)"
   ]
  },
  {
   "cell_type": "code",
   "execution_count": 513,
   "metadata": {},
   "outputs": [
    {
     "data": {
      "text/plain": [
       "0      FHD\n",
       "1      FHD\n",
       "2       SD\n",
       "3      FHD\n",
       "4       SD\n",
       "      ... \n",
       "545    NaN\n",
       "546     SD\n",
       "547    NaN\n",
       "548    NaN\n",
       "549    NaN\n",
       "Name: video, Length: 550, dtype: object"
      ]
     },
     "execution_count": 513,
     "metadata": {},
     "output_type": "execute_result"
    }
   ],
   "source": [
    "df.video"
   ]
  },
  {
   "cell_type": "markdown",
   "metadata": {},
   "source": [
    "##### Network Support"
   ]
  },
  {
   "cell_type": "code",
   "execution_count": 514,
   "metadata": {},
   "outputs": [
    {
     "data": {
      "text/plain": [
       "0      2G, 3G, 4G, 4G VOLTE, 5G\n",
       "1      2G, 3G, 4G, 4G VOLTE, 5G\n",
       "2                5G, 4G, 3G, 2G\n",
       "3      2G, 3G, 4G, 4G VOLTE, 5G\n",
       "4                5G, 4G, 3G, 2G\n",
       "                 ...           \n",
       "545                          2G\n",
       "546              2G, 3G, 4G, 5G\n",
       "547                          5G\n",
       "548                          2G\n",
       "549                          5G\n",
       "Name: Network Type, Length: 550, dtype: object"
      ]
     },
     "execution_count": 514,
     "metadata": {},
     "output_type": "execute_result"
    }
   ],
   "source": [
    "df['Network Type']"
   ]
  },
  {
   "cell_type": "code",
   "execution_count": 515,
   "metadata": {},
   "outputs": [],
   "source": [
    "df['network'] = df['Network Type'].apply(lambda x: x if pd.isna(x) \n",
    "                                         else str(max(re.findall(r'\\d+',x))+\"G\"))"
   ]
  },
  {
   "cell_type": "code",
   "execution_count": 516,
   "metadata": {},
   "outputs": [
    {
     "data": {
      "text/plain": [
       "0      5G\n",
       "1      5G\n",
       "2      5G\n",
       "3      5G\n",
       "4      5G\n",
       "       ..\n",
       "545    2G\n",
       "546    5G\n",
       "547    5G\n",
       "548    2G\n",
       "549    5G\n",
       "Name: network, Length: 550, dtype: object"
      ]
     },
     "execution_count": 516,
     "metadata": {},
     "output_type": "execute_result"
    }
   ],
   "source": [
    "df['network']"
   ]
  },
  {
   "cell_type": "markdown",
   "metadata": {},
   "source": [
    "##### Battery Capacity"
   ]
  },
  {
   "cell_type": "code",
   "execution_count": 517,
   "metadata": {},
   "outputs": [
    {
     "data": {
      "text/plain": [
       "0      5000 mAh\n",
       "1      5000 mAh\n",
       "2      5000 mAh\n",
       "3      5000 mAh\n",
       "4      5000 mAh\n",
       "         ...   \n",
       "545     800 mAh\n",
       "546    5000 mAh\n",
       "547    5160 mAh\n",
       "548    2500 mAh\n",
       "549    6000 mAh\n",
       "Name: Battery Capacity, Length: 550, dtype: object"
      ]
     },
     "execution_count": 517,
     "metadata": {},
     "output_type": "execute_result"
    }
   ],
   "source": [
    "df['Battery Capacity']"
   ]
  },
  {
   "cell_type": "code",
   "execution_count": 518,
   "metadata": {},
   "outputs": [],
   "source": [
    "df['Battery Capacity'] = df['Battery Capacity'].apply(lambda x : x if pd.isna(x) else int(x.split()[0]))"
   ]
  },
  {
   "cell_type": "code",
   "execution_count": 519,
   "metadata": {},
   "outputs": [
    {
     "data": {
      "text/plain": [
       "0      5000.0\n",
       "1      5000.0\n",
       "2      5000.0\n",
       "3      5000.0\n",
       "4      5000.0\n",
       "        ...  \n",
       "545     800.0\n",
       "546    5000.0\n",
       "547    5160.0\n",
       "548    2500.0\n",
       "549    6000.0\n",
       "Name: Battery Capacity, Length: 550, dtype: float64"
      ]
     },
     "execution_count": 519,
     "metadata": {},
     "output_type": "execute_result"
    }
   ],
   "source": [
    "df['Battery Capacity']"
   ]
  },
  {
   "cell_type": "markdown",
   "metadata": {},
   "source": [
    "##### Battery type"
   ]
  },
  {
   "cell_type": "code",
   "execution_count": 520,
   "metadata": {},
   "outputs": [
    {
     "data": {
      "text/plain": [
       "0      Lithium Polymer\n",
       "1      Lithium Polymer\n",
       "2                  NaN\n",
       "3      Lithium Polymer\n",
       "4                  NaN\n",
       "            ...       \n",
       "545                NaN\n",
       "546                NaN\n",
       "547                NaN\n",
       "548             Li-Ion\n",
       "549                NaN\n",
       "Name: Battery Type, Length: 550, dtype: object"
      ]
     },
     "execution_count": 520,
     "metadata": {},
     "output_type": "execute_result"
    }
   ],
   "source": [
    "df['Battery Type']"
   ]
  },
  {
   "cell_type": "markdown",
   "metadata": {},
   "source": [
    "##### Warranty summary"
   ]
  },
  {
   "cell_type": "code",
   "execution_count": 521,
   "metadata": {},
   "outputs": [
    {
     "data": {
      "text/plain": [
       "0      1 Year Manufacturer Warranty for Phone and 6 M...\n",
       "1      1 Year Manufacturer Warranty for Phone and 6 M...\n",
       "2          1 Year on Handset and 6 Months on Accessories\n",
       "3      1 Year Manufacturer Warranty for Phone and 6 M...\n",
       "4          1 Year on Handset and 6 Months on Accessories\n",
       "                             ...                        \n",
       "545    1 year warranty only against manufacturing def...\n",
       "546        1 Year on Handset and 6 Months on Accessories\n",
       "547                                               1 Year\n",
       "548                         1 Year Manufacturer Warranty\n",
       "549    1 year manufacturer warranty for device and 6 ...\n",
       "Name: Warranty Summary, Length: 550, dtype: object"
      ]
     },
     "execution_count": 521,
     "metadata": {},
     "output_type": "execute_result"
    }
   ],
   "source": [
    "df['Warranty Summary']"
   ]
  },
  {
   "cell_type": "code",
   "execution_count": 522,
   "metadata": {},
   "outputs": [
    {
     "name": "stdout",
     "output_type": "stream",
     "text": [
      "Domestic Warranty of 12 months on phone & 6 months on accessories\n",
      "Domestic Warranty of 12 months on phone & 6 months on accessories\n",
      "NO WARRANTY\n",
      "NO WARRANTY\n",
      "no warranty\n",
      "NO WARRANTY\n",
      "Domestic Warranty 1 Year For Handset And 6 month For Accessories.\n",
      "NO WARRANTY\n",
      "12+1 Months Warranty for device 6 months for accessories 111 Days Replacement\n",
      "Domestic warranty of 12 months on phone & 6 months on accessories\n",
      "12+1 month manufacturer warranty\n",
      "Domestic Warranty 1 Year For Handset And 6 month For Accessories.\n",
      "NO WARRANTY\n",
      "Domestic warranty of 12 months on phone & 6 months on accessories\n",
      "No care warranty\n",
      "One Year Manufacturer Warranty\n",
      "No Warranty\n",
      "One Year Manufacturer Warranty\n",
      "One Year Manufacturer Warranty\n",
      "No Warranty\n",
      "No Warranty\n",
      "No Warranty\n",
      "One Year manufacturer Warranty\n",
      "NO WARRANTY\n",
      "Domestic Warranty of 12 Months on Phone & 6 Months on Accessories\n",
      "1-year manufacturer Warranty\n",
      "One Year Manufacturer Warranty\n",
      "NO WARRANTY\n",
      "No Warranty\n",
      "Domestic Warranty of 12 Months on Phone & 6 Months on Accessories\n",
      "NO WARRANTY\n",
      "NO WARRANTY\n",
      "Domestic 1 Year of Device & 6 Months for In-Box Accessories\n",
      "No Warranty\n",
      "No Warranty\n",
      "Brand Warranty of 1 Year Available for Mobile\n",
      "NO WARRANTY\n",
      "12+1 Month Warranty | 111 Days Replacement Offer (Special Offer)\n",
      "1-year warranty\n",
      "12+1 Months Warranty for device \n",
      "6 months for accessories\n",
      "111 Days Replacement (Special offer)\n",
      "NO WARRANTY\n",
      "Brand Warranty of 2 Years Available for Mobile and 6 Months for Accessories\n",
      "12+1 Months Warranty for device 6 months for accessories 111 Days Replacement (Special offer)\n",
      "Brand Warranty for 1 Year\n",
      "Domestic 1 Year of Device & 6 Months for In-Box Accessories\n",
      "Domestic 1 Year on Handset and 6 Months on Accessories\n",
      "One Year manufacturer Defets warranty\n",
      "One Year manufacturer Defets warranty\n",
      "12+1 Months Warranty for device 6 months for accessories 111 Days Replacement (Special offer)\n",
      "The Hotline Mobiles has 3 Months Manufacture’s Warranty & after Warranty period we would like to help our customers with the best possible service under low expenses\n",
      "Domestic 1 Year on Handset and 6 Months on Accessories\n",
      "Company Warranty\n",
      "Domestic 1 Year of Device & 6 Months for In-Box Accessories\n",
      "Domestic 1 Year of Device & 6 Months for In-Box Accessories\n",
      "Domestic 1 Year of Device & 6 Months for In-Box Accessories\n",
      "NO WARRANTY\n",
      "NO WARRANTY\n",
      "Domestic 1 Year of Device & 6 Months for In-Box Accessories\n",
      "NO WARRANTY\n",
      "One year manufacture warranty\n",
      "NO WARRANTY\n",
      "Domestic 1 Year of Device & 6 Months for In-Box Accessories\n",
      "Brand Warranty for 1 Year\n",
      "Brand Warranty of 1 Year Available for Mobile and 6 Months for Battery and Accessories\n",
      "One Year Manufacture Warranty\n",
      "12+1 Month Warranty on Device with 111\n",
      "Domestic Warranty 1 year for handset and 6 months for accessories.\n",
      "Domestic Warranty 1 Year For Handset and 6 Months For Accessories.\n",
      "Domestic Warranty 1 Year For Handset And 6 month For Accessories.\n",
      "NO WARRANTY\n",
      "Domestic 1 Year on Handset and 6 Months on Accessories\n",
      "One Year for Handset, 6 Months for Accessories\n"
     ]
    }
   ],
   "source": [
    "for i in range(df.shape[0]):\n",
    "    try:\n",
    "        int(df['Warranty Summary'][i].split()[0])\n",
    "    except:\n",
    "        print(df['Warranty Summary'][i])"
   ]
  },
  {
   "cell_type": "code",
   "execution_count": 523,
   "metadata": {},
   "outputs": [],
   "source": [
    "def warranty_time(x):\n",
    "    try:\n",
    "        x = x.lower()\n",
    "        if \"phone\" in x or \"device\" in x:\n",
    "            a = int(re.findall(r'\\d+',x)[0])\n",
    "            if \"year\" in x:\n",
    "                a *= 12\n",
    "            \n",
    "            return a\n",
    "        return np.nan\n",
    "    except:\n",
    "        return x"
   ]
  },
  {
   "cell_type": "code",
   "execution_count": 524,
   "metadata": {},
   "outputs": [],
   "source": [
    "df['Warranty Summary'] = df['Warranty Summary'].apply(warranty_time)"
   ]
  },
  {
   "cell_type": "code",
   "execution_count": 525,
   "metadata": {},
   "outputs": [],
   "source": [
    "# df['Warranty Summary'] = df['Warranty Summary'].apply(lambda x : re.findall(r'\\d+',x)[0] if len(re.findall(r'\\d+',x))>0 else \"no\")"
   ]
  },
  {
   "cell_type": "markdown",
   "metadata": {},
   "source": [
    "##### Java Support"
   ]
  },
  {
   "cell_type": "code",
   "execution_count": 526,
   "metadata": {},
   "outputs": [
    {
     "data": {
      "text/plain": [
       "array([nan, 'No', 'Yes'], dtype=object)"
      ]
     },
     "execution_count": 526,
     "metadata": {},
     "output_type": "execute_result"
    }
   ],
   "source": [
    "df['JAVA Support'].unique()"
   ]
  },
  {
   "cell_type": "markdown",
   "metadata": {},
   "source": [
    "##### Save Data"
   ]
  },
  {
   "cell_type": "code",
   "execution_count": 527,
   "metadata": {},
   "outputs": [
    {
     "data": {
      "text/plain": [
       "Index(['title', 'rating', 'image', 'price', 'extra', 'Model Name', 'Color',\n",
       "       'SIM Type', 'Touchscreen', 'quick_charge', 'Display Size', 'Resolution',\n",
       "       'GPU', 'Operating System', 'Processor Brand', 'Processor Type',\n",
       "       'Processor Core', 'Primary Clock Speed', 'Internal Storage', 'RAM',\n",
       "       'Expandable Storage', 'Primary Camera', 'Secondary Camera',\n",
       "       'HD Recording', 'Video Recording Resolution', 'Network Type',\n",
       "       'Battery Capacity', 'Battery Type', 'Warranty Summary', 'JAVA Support',\n",
       "       'brand', 'headset', 'charger', 'warranty', 'cable', 'pro', 'model',\n",
       "       'color1', 'color2', 'sim', 'display', 'height', 'width', 'os', 'core',\n",
       "       'clock_speed', 'storage', 'expandable', 'camera', 'secondary_camera',\n",
       "       'video', 'network'],\n",
       "      dtype='object')"
      ]
     },
     "execution_count": 527,
     "metadata": {},
     "output_type": "execute_result"
    }
   ],
   "source": [
    "df.columns"
   ]
  },
  {
   "cell_type": "code",
   "execution_count": 529,
   "metadata": {},
   "outputs": [
    {
     "data": {
      "text/plain": [
       "Index(['extra', 'Model Name', 'Color', 'SIM Type', 'Display Size',\n",
       "       'Resolution', 'Operating System', 'Processor Type', 'Processor Core',\n",
       "       'Primary Clock Speed', 'Internal Storage', 'Expandable Storage',\n",
       "       'Primary Camera', 'Secondary Camera', 'Video Recording Resolution',\n",
       "       'Network Type'],\n",
       "      dtype='object')"
      ]
     },
     "execution_count": 529,
     "metadata": {},
     "output_type": "execute_result"
    }
   ],
   "source": [
    "rm_cols = df.columns[[4,5,6,7,10,11,13,15,16,17,18,20,21,22,24,25]]\n",
    "rm_cols"
   ]
  },
  {
   "cell_type": "code",
   "execution_count": 530,
   "metadata": {},
   "outputs": [],
   "source": [
    "df.drop(columns=rm_cols,inplace=True)\n"
   ]
  },
  {
   "cell_type": "code",
   "execution_count": 531,
   "metadata": {},
   "outputs": [],
   "source": [
    "rm_cols = {\n",
    "    \"Touchscreen\" : \"touch\",\n",
    "    \"GPU\" : \"gpu\",\n",
    "    \"Processor Brand\" : \"processor_brand\",\n",
    "    \"RAM\" : \"ram\",\n",
    "    \"HD Recording\" : \"hd\",\n",
    "    \"Battery Capacity\" : \"battery\",\n",
    "    \"Battery Type\" : \"battery_type\",\n",
    "    \"Warranty Summary\" : \"warranty_time\",\n",
    "    \"JAVA Support\" : \"java\"\n",
    "}"
   ]
  },
  {
   "cell_type": "code",
   "execution_count": 532,
   "metadata": {},
   "outputs": [
    {
     "data": {
      "text/plain": [
       "{'Touchscreen': 'touch',\n",
       " 'GPU': 'gpu',\n",
       " 'Processor Brand': 'processor_brand',\n",
       " 'RAM': 'ram',\n",
       " 'HD Recording': 'hd',\n",
       " 'Battery Capacity': 'battery',\n",
       " 'Battery Type': 'battery_type',\n",
       " 'Warranty Summary': 'warranty_time',\n",
       " 'JAVA Support': 'java'}"
      ]
     },
     "execution_count": 532,
     "metadata": {},
     "output_type": "execute_result"
    }
   ],
   "source": [
    "rm_cols"
   ]
  },
  {
   "cell_type": "code",
   "execution_count": 533,
   "metadata": {},
   "outputs": [],
   "source": [
    "df.rename(columns=rm_cols,inplace=True)"
   ]
  },
  {
   "cell_type": "code",
   "execution_count": 534,
   "metadata": {},
   "outputs": [
    {
     "data": {
      "text/plain": [
       "(550, 36)"
      ]
     },
     "execution_count": 534,
     "metadata": {},
     "output_type": "execute_result"
    }
   ],
   "source": [
    "df.shape"
   ]
  },
  {
   "cell_type": "code",
   "execution_count": 535,
   "metadata": {},
   "outputs": [
    {
     "name": "stdout",
     "output_type": "stream",
     "text": [
      "<class 'pandas.core.frame.DataFrame'>\n",
      "RangeIndex: 550 entries, 0 to 549\n",
      "Data columns (total 36 columns):\n",
      " #   Column            Non-Null Count  Dtype  \n",
      "---  ------            --------------  -----  \n",
      " 0   title             550 non-null    object \n",
      " 1   rating            550 non-null    float32\n",
      " 2   image             550 non-null    object \n",
      " 3   price             550 non-null    int64  \n",
      " 4   touch             548 non-null    object \n",
      " 5   quick_charge      550 non-null    object \n",
      " 6   gpu               550 non-null    object \n",
      " 7   processor_brand   426 non-null    object \n",
      " 8   ram               524 non-null    float64\n",
      " 9   hd                313 non-null    object \n",
      " 10  battery           540 non-null    float64\n",
      " 11  battery_type      316 non-null    object \n",
      " 12  warranty_time     276 non-null    float64\n",
      " 13  java              72 non-null     object \n",
      " 14  brand             550 non-null    object \n",
      " 15  headset           550 non-null    bool   \n",
      " 16  charger           550 non-null    bool   \n",
      " 17  warranty          550 non-null    bool   \n",
      " 18  cable             550 non-null    bool   \n",
      " 19  pro               550 non-null    bool   \n",
      " 20  model             550 non-null    object \n",
      " 21  color1            550 non-null    object \n",
      " 22  color2            390 non-null    object \n",
      " 23  sim               550 non-null    object \n",
      " 24  display           549 non-null    float64\n",
      " 25  height            547 non-null    float64\n",
      " 26  width             547 non-null    float64\n",
      " 27  os                550 non-null    object \n",
      " 28  core              396 non-null    object \n",
      " 29  clock_speed       477 non-null    float64\n",
      " 30  storage           546 non-null    float64\n",
      " 31  expandable        276 non-null    float64\n",
      " 32  camera            512 non-null    float64\n",
      " 33  secondary_camera  357 non-null    float64\n",
      " 34  video             262 non-null    object \n",
      " 35  network           544 non-null    object \n",
      "dtypes: bool(5), float32(1), float64(11), int64(1), object(18)\n",
      "memory usage: 133.9+ KB\n"
     ]
    }
   ],
   "source": [
    "df.info()"
   ]
  },
  {
   "cell_type": "code",
   "execution_count": 536,
   "metadata": {},
   "outputs": [
    {
     "data": {
      "text/plain": [
       "Index(['title', 'rating', 'image', 'price', 'touch', 'quick_charge', 'gpu',\n",
       "       'processor_brand', 'ram', 'hd', 'battery', 'battery_type',\n",
       "       'warranty_time', 'java', 'brand', 'headset', 'charger', 'warranty',\n",
       "       'cable', 'pro', 'model', 'color1', 'color2', 'sim', 'display', 'height',\n",
       "       'width', 'os', 'core', 'clock_speed', 'storage', 'expandable', 'camera',\n",
       "       'secondary_camera', 'video', 'network'],\n",
       "      dtype='object')"
      ]
     },
     "execution_count": 536,
     "metadata": {},
     "output_type": "execute_result"
    }
   ],
   "source": [
    "df.columns"
   ]
  },
  {
   "cell_type": "code",
   "execution_count": 537,
   "metadata": {},
   "outputs": [
    {
     "data": {
      "text/html": [
       "<div>\n",
       "<style scoped>\n",
       "    .dataframe tbody tr th:only-of-type {\n",
       "        vertical-align: middle;\n",
       "    }\n",
       "\n",
       "    .dataframe tbody tr th {\n",
       "        vertical-align: top;\n",
       "    }\n",
       "\n",
       "    .dataframe thead th {\n",
       "        text-align: right;\n",
       "    }\n",
       "</style>\n",
       "<table border=\"1\" class=\"dataframe\">\n",
       "  <thead>\n",
       "    <tr style=\"text-align: right;\">\n",
       "      <th></th>\n",
       "      <th>title</th>\n",
       "      <th>rating</th>\n",
       "      <th>image</th>\n",
       "      <th>price</th>\n",
       "      <th>touch</th>\n",
       "      <th>quick_charge</th>\n",
       "      <th>gpu</th>\n",
       "      <th>processor_brand</th>\n",
       "      <th>ram</th>\n",
       "      <th>hd</th>\n",
       "      <th>...</th>\n",
       "      <th>width</th>\n",
       "      <th>os</th>\n",
       "      <th>core</th>\n",
       "      <th>clock_speed</th>\n",
       "      <th>storage</th>\n",
       "      <th>expandable</th>\n",
       "      <th>camera</th>\n",
       "      <th>secondary_camera</th>\n",
       "      <th>video</th>\n",
       "      <th>network</th>\n",
       "    </tr>\n",
       "  </thead>\n",
       "  <tbody>\n",
       "    <tr>\n",
       "      <th>356</th>\n",
       "      <td>vivo V30 5G (Classic Black, 256 GB)  (12 GB RAM)</td>\n",
       "      <td>4.5</td>\n",
       "      <td>https://rukminim2.flixcart.com/image/416/416/x...</td>\n",
       "      <td>42999</td>\n",
       "      <td>Yes</td>\n",
       "      <td>yes</td>\n",
       "      <td>no</td>\n",
       "      <td>Snapdragon</td>\n",
       "      <td>12.000</td>\n",
       "      <td>NaN</td>\n",
       "      <td>...</td>\n",
       "      <td>1260.0</td>\n",
       "      <td>a14</td>\n",
       "      <td>Octa</td>\n",
       "      <td>2.63</td>\n",
       "      <td>256.0</td>\n",
       "      <td>NaN</td>\n",
       "      <td>100.0</td>\n",
       "      <td>50.0</td>\n",
       "      <td>NaN</td>\n",
       "      <td>5G</td>\n",
       "    </tr>\n",
       "    <tr>\n",
       "      <th>115</th>\n",
       "      <td>Motorola Edge 50 Fusion (Marshmallow Blue, 256...</td>\n",
       "      <td>4.5</td>\n",
       "      <td>https://rukminim2.flixcart.com/image/416/416/x...</td>\n",
       "      <td>27999</td>\n",
       "      <td>Yes</td>\n",
       "      <td>yes</td>\n",
       "      <td>yes</td>\n",
       "      <td>Snapdragon</td>\n",
       "      <td>12.000</td>\n",
       "      <td>Yes</td>\n",
       "      <td>...</td>\n",
       "      <td>1080.0</td>\n",
       "      <td>a14</td>\n",
       "      <td>Octa</td>\n",
       "      <td>2.40</td>\n",
       "      <td>256.0</td>\n",
       "      <td>NaN</td>\n",
       "      <td>63.0</td>\n",
       "      <td>32.0</td>\n",
       "      <td>SD</td>\n",
       "      <td>5G</td>\n",
       "    </tr>\n",
       "    <tr>\n",
       "      <th>354</th>\n",
       "      <td>itel U30 keypad Mobile|1200 mAh battery|Expand...</td>\n",
       "      <td>4.0</td>\n",
       "      <td>https://rukminim2.flixcart.com/image/416/416/x...</td>\n",
       "      <td>1249</td>\n",
       "      <td>No</td>\n",
       "      <td>yes</td>\n",
       "      <td>no</td>\n",
       "      <td>NaN</td>\n",
       "      <td>0.032</td>\n",
       "      <td>No</td>\n",
       "      <td>...</td>\n",
       "      <td>240.0</td>\n",
       "      <td>o</td>\n",
       "      <td>Single</td>\n",
       "      <td>1.40</td>\n",
       "      <td>32.0</td>\n",
       "      <td>32.0</td>\n",
       "      <td>3.0</td>\n",
       "      <td>0.0</td>\n",
       "      <td>NaN</td>\n",
       "      <td>2G</td>\n",
       "    </tr>\n",
       "    <tr>\n",
       "      <th>250</th>\n",
       "      <td>OnePlus Nord CE 2 Lite 5G (Black Dusk, 128 GB)...</td>\n",
       "      <td>4.4</td>\n",
       "      <td>https://rukminim2.flixcart.com/image/416/416/x...</td>\n",
       "      <td>19999</td>\n",
       "      <td>Yes</td>\n",
       "      <td>yes</td>\n",
       "      <td>no</td>\n",
       "      <td>NaN</td>\n",
       "      <td>6.000</td>\n",
       "      <td>NaN</td>\n",
       "      <td>...</td>\n",
       "      <td>1080.0</td>\n",
       "      <td>a13</td>\n",
       "      <td>Octa</td>\n",
       "      <td>2.20</td>\n",
       "      <td>128.0</td>\n",
       "      <td>NaN</td>\n",
       "      <td>64.0</td>\n",
       "      <td>16.0</td>\n",
       "      <td>NaN</td>\n",
       "      <td>5G</td>\n",
       "    </tr>\n",
       "  </tbody>\n",
       "</table>\n",
       "<p>4 rows × 36 columns</p>\n",
       "</div>"
      ],
      "text/plain": [
       "                                                 title  rating  \\\n",
       "356   vivo V30 5G (Classic Black, 256 GB)  (12 GB RAM)     4.5   \n",
       "115  Motorola Edge 50 Fusion (Marshmallow Blue, 256...     4.5   \n",
       "354  itel U30 keypad Mobile|1200 mAh battery|Expand...     4.0   \n",
       "250  OnePlus Nord CE 2 Lite 5G (Black Dusk, 128 GB)...     4.4   \n",
       "\n",
       "                                                 image  price touch  \\\n",
       "356  https://rukminim2.flixcart.com/image/416/416/x...  42999   Yes   \n",
       "115  https://rukminim2.flixcart.com/image/416/416/x...  27999   Yes   \n",
       "354  https://rukminim2.flixcart.com/image/416/416/x...   1249    No   \n",
       "250  https://rukminim2.flixcart.com/image/416/416/x...  19999   Yes   \n",
       "\n",
       "    quick_charge  gpu processor_brand     ram   hd  ...   width   os    core  \\\n",
       "356          yes   no      Snapdragon  12.000  NaN  ...  1260.0  a14    Octa   \n",
       "115          yes  yes      Snapdragon  12.000  Yes  ...  1080.0  a14    Octa   \n",
       "354          yes   no             NaN   0.032   No  ...   240.0    o  Single   \n",
       "250          yes   no             NaN   6.000  NaN  ...  1080.0  a13    Octa   \n",
       "\n",
       "    clock_speed storage  expandable  camera  secondary_camera  video  network  \n",
       "356        2.63   256.0         NaN   100.0              50.0    NaN       5G  \n",
       "115        2.40   256.0         NaN    63.0              32.0     SD       5G  \n",
       "354        1.40    32.0        32.0     3.0               0.0    NaN       2G  \n",
       "250        2.20   128.0         NaN    64.0              16.0    NaN       5G  \n",
       "\n",
       "[4 rows x 36 columns]"
      ]
     },
     "execution_count": 537,
     "metadata": {},
     "output_type": "execute_result"
    }
   ],
   "source": [
    "df.sample(4)"
   ]
  },
  {
   "cell_type": "code",
   "execution_count": 538,
   "metadata": {},
   "outputs": [],
   "source": [
    "df.to_csv('files/CleanedData.csv',index=False)"
   ]
  },
  {
   "cell_type": "code",
   "execution_count": null,
   "metadata": {},
   "outputs": [],
   "source": []
  }
 ],
 "metadata": {
  "kernelspec": {
   "display_name": "Python 3",
   "language": "python",
   "name": "python3"
  },
  "language_info": {
   "codemirror_mode": {
    "name": "ipython",
    "version": 3
   },
   "file_extension": ".py",
   "mimetype": "text/x-python",
   "name": "python",
   "nbconvert_exporter": "python",
   "pygments_lexer": "ipython3",
   "version": "3.11.4"
  }
 },
 "nbformat": 4,
 "nbformat_minor": 2
}
